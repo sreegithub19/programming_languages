{
 "cells": [
  {
   "cell_type": "markdown",
   "id": "30f14bc5",
   "metadata": {},
   "source": [
    "## All important links:\n",
    "- #### Cheat sheets:\n",
    "\n",
    "  - https://s3.amazonaws.com/assets.datacamp.com/email/other/ML+Cheat+Sheet_2.pdf\n",
    "\n",
    "  - https://www.datacamp.com/cheat-sheet/machine-learning-cheat-sheet\n",
    "\n",
    "- <h4><a href=\"https://rakuten.udemy.com/course/python-for-machine-learning-data-science-masterclass/learn/lecture/22992400?learning_path_id=3236876#overview\">Course link</a></h4>\n",
    "\n",
    "\n",
    "\n",
    " - <h4><a href=\"https://rakuten.udemy.com/course/python-for-machine-learning-data-science-masterclass/learn/lecture/22976036#overview\">Machine Learning link in Course</a></h4>\n",
    " \n",
    "- <a href=\"https://static1.squarespace.com/static/5ff2adbe3fe4fe33db902812/t/6009dd9fa7bc363aa822d2c7/1611259312432/ISLR+Seventh+Printing.pdf\"><u>ISLR book</u></a>\n",
    "\n",
    "- <a href=\"https://letsfigureout.com/greek-alphabet-in-a-jupyter-notebook/\"><u>Greek Alphabet Cheat Sheet</u></a>\n",
    "- - Capitals\n",
    "  - \\Alpha Α\n",
    "  - \\Beta Β\n",
    "  - \\Gamma Γ\n",
    "  - \\Delta Δ\n",
    "  - \\Epsilon Ε\n",
    "  - \\Zeta Ζ\n",
    "  - \\Eta Η\n",
    "  - \\Theta Θ\n",
    "  - \\Iota Ι\n",
    "  - \\Kappa Κ\n",
    "  - \\Lambda Λ\n",
    "  - \\Xi Ξ\n",
    "  - \\Pi Π\n",
    "  - \\Rho Ρ\n",
    "  - \\Sigma Σ\n",
    "  - \\Tau Τ\n",
    "  - \\Upsilon Υ\n",
    "  - \\Phi Φ\n",
    "  - \\Chi Χ\n",
    "  - \\Psi Ψ\n",
    "  - \\Omega Ω\n",
    "  \n",
    "<br><br>\n",
    "- - Small\n",
    "  - \\alpha α\n",
    "  - \\beta β\n",
    "  - \\gamma γ\n",
    "  - \\delta δ\n",
    "  - \\zeta ζ\n",
    "  - \\eta η\n",
    "  - \\theta θ\n",
    "  - \\iota ι\n",
    "  - \\kappa κ\n",
    "  - \\lambda λ\n",
    "  - \\mu μ\n",
    "  - \\nu ν\n",
    "  - \\xi ξ\n",
    "  - \\pi π\n",
    "  - \\rho ρ\n",
    "  - \\varsigma ς\n",
    "  - \\sigma σ\n",
    "  - \\tau τ\n",
    "  - \\upsilon υ\n",
    "  - \\varphi φ\n",
    "  - \\chi χ\n",
    "  - \\psi ψ\n",
    "  - \\omega ω\n",
    "  - \\vartheta ϑ\n",
    "  - \\phi ϕ\n",
    "  - \\varpi ϖ\n",
    "  - \\Stigma Ϛ\n",
    "  - \\Digamma Ϝ\n",
    "  - \\digamma ϝ\n",
    "  - \\Koppa Ϟ\n",
    "  - \\Sampi Ϡ\n",
    "  - \\varkappa ϰ\n",
    "  - \\varrho ϱ\n",
    "  - \\textTheta ϴ\n",
    "  - \\epsilon ϵ"
   ]
  },
  {
   "cell_type": "code",
   "execution_count": 10,
   "id": "9174a929",
   "metadata": {},
   "outputs": [
    {
     "data": {
      "text/latex": [
       "$x_0$"
      ],
      "text/plain": [
       "<IPython.core.display.Latex object>"
      ]
     },
     "metadata": {},
     "output_type": "display_data"
    },
    {
     "data": {
      "text/latex": [
       "$x_1$"
      ],
      "text/plain": [
       "<IPython.core.display.Latex object>"
      ]
     },
     "metadata": {},
     "output_type": "display_data"
    },
    {
     "data": {
      "text/latex": [
       "$x_2$"
      ],
      "text/plain": [
       "<IPython.core.display.Latex object>"
      ]
     },
     "metadata": {},
     "output_type": "display_data"
    },
    {
     "data": {
      "text/html": [
       "<script>\n",
       "code_show=true; \n",
       "function code_toggle() {\n",
       " if (code_show){\n",
       " $('div.input').hide();\n",
       " } else {\n",
       " $('div.input').show();\n",
       " }\n",
       " code_show = !code_show\n",
       "} \n",
       "$( document ).ready(code_toggle);\n",
       "</script>\n",
       "<form action=\"javascript:code_toggle()\"><input type=\"submit\" value=\"Click here to toggle on/off the raw code.\"></form>"
      ],
      "text/plain": [
       "<IPython.core.display.HTML object>"
      ]
     },
     "execution_count": 10,
     "metadata": {},
     "output_type": "execute_result"
    }
   ],
   "source": [
    "# !pip install jupyter_contrib_nbextensions\n",
    "# !pip3 install jupyter_contrib_nbextensions\n",
    "# !jupyter contrib nbextension install --user\n",
    "# !pip install jupyter_nbextensions_configurator\n",
    "# !pip3 install jupyter_nbextensions_configurator\n",
    "# !jupyter nbextensions_configurator enable --user\n",
    "\n",
    "# http://localhost:8888/nbextensions/\n",
    "\n",
    "from IPython.display import HTML\n",
    "from ipynb.fs.defs._2_Pandas import hide_toggle\n",
    "from IPython.display import display, Latex\n",
    "\n",
    "for i in range(3):\n",
    "    display(Latex(f'$x_{i}$'))\n",
    "\n",
    "HTML('''<script>\n",
    "code_show=true; \n",
    "function code_toggle() {\n",
    " if (code_show){\n",
    " $('div.input').hide();\n",
    " } else {\n",
    " $('div.input').show();\n",
    " }\n",
    " code_show = !code_show\n",
    "} \n",
    "$( document ).ready(code_toggle);\n",
    "</script>\n",
    "<form action=\"javascript:code_toggle()\"><input type=\"submit\" value=\"Click here to toggle on/off the raw code.\"></form>''')"
   ]
  },
  {
   "cell_type": "code",
   "execution_count": null,
   "id": "eff793ab",
   "metadata": {},
   "outputs": [],
   "source": []
  },
  {
   "cell_type": "markdown",
   "id": "5fd77cdc",
   "metadata": {},
   "source": [
    "1.  \n",
    "- Features - What we are predicting from\n",
    "- Label - What we are predicting\n",
    "<hr>\n",
    "2. \n",
    "Basics\n",
    "- <a href=\"/notebooks/_1_Numpy.ipynb\">Numpy</a>\n",
    "- <a href=\"/notebooks/_2_Pandas.ipynb\">Pandas</a>\n",
    "- <a href=\"/notebooks/_3_Matplotlib.ipynb\">Matplotlib</a>\n",
    "- <a href=\"/notebooks/_4_Seaborn.ipynb\">Seaborn</a>\n",
    "<hr>\n",
    "3. \n",
    "- <a href=\"https://www.google.co.jp/url?sa=i&url=https%3A%2F%2Fmedium.com%2F%40sarthakkumargupta%2Fsemi-supervised-and-supervised-machine-learning-750e2dade6d%3Fsource%3Dpost_internal_links---------7----------------------------&psig=AOvVaw0_6a66uXsP-EmM0ZVWQ8Pn&ust=1668413258954000&source=images&cd=vfe&ved=0CBAQjRxqFwoTCNDwzMjZqvsCFQAAAAAdAAAAABAP\"><u>Types of ML algos:</u></a>\n",
    "  - Supervised  - (labelled data)\n",
    "    - Categorical variables - Classification algos\n",
    "    - Continuous variables - Regression algos\n",
    "      - [Linear Regression](#Linear_Regression)\n",
    "        - <a href=\"/notebooks/_6_Linear_regression.ipynb\">Notebook</a>\n",
    "  - Unsupervised  - (unlabelled data)\n",
    "<hr>\n",
    "4. \n",
    "- <u>Other ML topics:</u>\n",
    "- - Bias-variance trade-off\n",
    "- - Cross - validation\n",
    "- - Feature engineering\n",
    "- - Scikit-learn\n",
    "- - Performance metrics\n",
    "<hr>\n"
   ]
  },
  {
   "cell_type": "code",
   "execution_count": null,
   "id": "a460c40a",
   "metadata": {},
   "outputs": [],
   "source": []
  },
  {
   "cell_type": "markdown",
   "id": "c73234c9",
   "metadata": {},
   "source": [
    "<h3><a id=\"Linear_Regression\">Linear Regression</a></h3>\n",
    "\n",
    "- <u>1. Ordinary least squares (OLS)</u> \n",
    "  - OLS works by minimizing the sum of the squares, of the differences between the observed dependent values, that is, values of the variable being observed in the given dataset and those predicted by the linear function.\n",
    "  - For solving simple Linear Regression. Not scalable for multiple features. \n",
    "  - <code>y = mx + b</code>\n",
    "    - m = Slope\n",
    "    - b = Intercept\n",
    "  - <mark> $Y_{i}$ = f($X_{i}$, β) + $e_{i}$ </mark>\n",
    "    - $Y_{i}$\t=\tdependent variable\n",
    "    - f\t=\tfunction\n",
    "    - $X_{i}$\t=\tindependent variable\n",
    "    - β\t=\tunknown parameters\n",
    "    - $e_{i}$\t=\terror terms\n",
    "  - <mark> ${Y} = \\sum \\limits _{j=0} ^{n} X_{j}{\\beta}_{j} $ </mark> \n",
    "  - <a href=\"https://en.wikipedia.org/wiki/Anscombe%27s_quartet\">Anscombe's Quartet:</a>\n",
    "    - Anscombe's quartet comprises four data sets that have nearly identical simple descriptive statistics, yet have very different distributions and appear very different when graphed. \n",
    "    \n",
    "<hr>\n",
    "\n",
    "- <u>2. Cost Function</u>\n",
    "    <br><a href=\"https://arachnoid.com/latex/\">Help: Latex to text converter</a>\n",
    "    <br><a href=\"https://www.vertopal.com/en/convert/text-to-latex\">Help: Text to Latex converter</a>\n",
    "  \n",
    "  (1/m) $\\sum \\limits _{j=1} ^{m}$ $({y}^{j}  -  {\\hat{y}}^{j})^{2}$\n",
    "  \n",
    "  Additional(1/2) is for convenience of derivative: <br>\n",
    "    (1/2m) $\\sum \\limits _{j=1} ^{m}$ $({y}^{j}  -  {\\hat{y}}^{j})^{2}$\n",
    "\n",
    "  What we end up using is known as gradient descent, which is a computational way to actually figure out the minimization of that cost function.\n",
    "  \n",
    "<hr>\n",
    "\n",
    "- <u>3. Gradient descent</u>\n",
    "<img src=\"https://editor.analyticsvidhya.com/uploads/36152Screenshot%20(43).png\" height=\"300\" width=\"300\"/>\n",
    "<img src=\"https://cdn-images-1.medium.com/proxy/1*TKwMAQnyj_CJgZeT1dgg2g.png\" height=\"300\" width=\"300\"/>\n",
    "<img src=\"https://miro.medium.com/max/1400/1*mC6G-Dx7rCDNo3dWRN1B9Q.png\" height=\"500\" width=\"500\" />\n"
   ]
  },
  {
   "cell_type": "markdown",
   "id": "8d589cc3",
   "metadata": {},
   "source": [
    "\n"
   ]
  },
  {
   "cell_type": "code",
   "execution_count": null,
   "id": "fd545f61",
   "metadata": {},
   "outputs": [],
   "source": []
  }
 ],
 "metadata": {
  "kernelspec": {
   "display_name": "Python 3 (ipykernel)",
   "language": "python",
   "name": "python3"
  },
  "language_info": {
   "codemirror_mode": {
    "name": "ipython",
    "version": 3
   },
   "file_extension": ".py",
   "mimetype": "text/x-python",
   "name": "python",
   "nbconvert_exporter": "python",
   "pygments_lexer": "ipython3",
   "version": "3.8.0"
  },
  "varInspector": {
   "cols": {
    "lenName": 16,
    "lenType": 16,
    "lenVar": 40
   },
   "kernels_config": {
    "python": {
     "delete_cmd_postfix": "",
     "delete_cmd_prefix": "del ",
     "library": "var_list.py",
     "varRefreshCmd": "print(var_dic_list())"
    },
    "r": {
     "delete_cmd_postfix": ") ",
     "delete_cmd_prefix": "rm(",
     "library": "var_list.r",
     "varRefreshCmd": "cat(var_dic_list()) "
    }
   },
   "types_to_exclude": [
    "module",
    "function",
    "builtin_function_or_method",
    "instance",
    "_Feature"
   ],
   "window_display": false
  },
  "vscode": {
   "interpreter": {
    "hash": "d1d53844fa7b061d9a2f658c3fe3dde5e1913fb87b7139a02c3ab412f15c06de"
   }
  }
 },
 "nbformat": 4,
 "nbformat_minor": 5
}

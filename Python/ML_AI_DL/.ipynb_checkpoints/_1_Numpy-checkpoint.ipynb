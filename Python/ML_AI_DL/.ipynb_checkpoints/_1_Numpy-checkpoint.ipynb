{
 "cells": [
  {
   "cell_type": "markdown",
   "id": "b602233c",
   "metadata": {},
   "source": [
    "### Click here to toggle on/off the raw code"
   ]
  },
  {
   "cell_type": "code",
   "execution_count": 3,
   "id": "060f3bc4",
   "metadata": {},
   "outputs": [
    {
     "data": {
      "text/html": [
       "<script>\n",
       "code_show=true; \n",
       "function code_toggle() {\n",
       " if (code_show){\n",
       " $('div.input').hide();\n",
       " } else {\n",
       " $('div.input').show();\n",
       " }\n",
       " code_show = !code_show\n",
       "} \n",
       "$( document ).ready(code_toggle);\n",
       "</script>\n",
       "<form action=\"javascript:code_toggle()\"><input type=\"submit\" value=\"Click here to toggle on/off the raw code.\"></form>"
      ],
      "text/plain": [
       "<IPython.core.display.HTML object>"
      ]
     },
     "execution_count": 3,
     "metadata": {},
     "output_type": "execute_result"
    }
   ],
   "source": [
    "from IPython.display import HTML\n",
    "from ipynb.fs.defs._2_Pandas import hide_toggle\n",
    "\n",
    "HTML('''<script>\n",
    "code_show=true; \n",
    "function code_toggle() {\n",
    " if (code_show){\n",
    " $('div.input').hide();\n",
    " } else {\n",
    " $('div.input').show();\n",
    " }\n",
    " code_show = !code_show\n",
    "} \n",
    "$( document ).ready(code_toggle);\n",
    "</script>\n",
    "<form action=\"javascript:code_toggle()\"><input type=\"submit\" value=\"Click here to toggle on/off the raw code.\"></form>''')"
   ]
  },
  {
   "cell_type": "markdown",
   "id": "b1a82581",
   "metadata": {},
   "source": [
    "### Installing required packages"
   ]
  },
  {
   "cell_type": "code",
   "execution_count": null,
   "id": "6f846501",
   "metadata": {},
   "outputs": [],
   "source": [
    "import subprocess\n",
    "import sys\n",
    "from IPython.display import display,HTML\n",
    "hide_toggle()\n",
    "\n",
    "def install(package):\n",
    "    subprocess.check_call([sys.executable, \"-m\", \"pip\", \"install\", package])   \n",
    "install(\"jupyter_contrib_nbextensions\")\n",
    "install(\"ipynb\")   # for importing functions from other .ipynb files"
   ]
  },
  {
   "cell_type": "code",
   "execution_count": 4,
   "id": "ba10708f",
   "metadata": {},
   "outputs": [
    {
     "data": {
      "text/plain": [
       "'1.23.4'"
      ]
     },
     "metadata": {},
     "output_type": "display_data"
    }
   ],
   "source": [
    "import numpy as np\n",
    "from IPython.display import display,HTML\n",
    "display(np.__version__)\n",
    "\n",
    "# !pip install jupyter_contrib_nbextensions\n",
    "# !pip3 install jupyter_contrib_nbextensions\n",
    "# !jupyter contrib nbextension install --user\n",
    "# !pip install jupyter_nbextensions_configurator\n",
    "# !pip3 install jupyter_nbextensions_configurator\n",
    "# !jupyter nbextensions_configurator enable --user\n",
    "# http://localhost:8888/nbextensions/"
   ]
  },
  {
   "cell_type": "markdown",
   "id": "ffac8c72",
   "metadata": {},
   "source": [
    "### Numpy Arrays"
   ]
  },
  {
   "cell_type": "code",
   "execution_count": 13,
   "id": "751b7626",
   "metadata": {
    "collapsed": true
   },
   "outputs": [
    {
     "data": {
      "text/plain": [
       "array([1, 2, 3])"
      ]
     },
     "metadata": {},
     "output_type": "display_data"
    },
    {
     "data": {
      "text/plain": [
       "numpy.ndarray"
      ]
     },
     "metadata": {},
     "output_type": "display_data"
    },
    {
     "data": {
      "text/plain": [
       "[[1, 2, 3], [1, 2, 3], [1, 2, 3]]"
      ]
     },
     "metadata": {},
     "output_type": "display_data"
    }
   ],
   "source": [
    "display(np.array([1,2,3]),type(np.array([1,2,3])))\n",
    "matrix = [[1,2,3],[1,2,3],[1,2,3]]\n",
    "display(matrix)\n"
   ]
  },
  {
   "cell_type": "code",
   "execution_count": 116,
   "id": "fd80226b",
   "metadata": {
    "scrolled": true
   },
   "outputs": [
    {
     "data": {
      "text/plain": [
       "array([2, 2, 2])"
      ]
     },
     "metadata": {},
     "output_type": "display_data"
    },
    {
     "data": {
      "text/plain": [
       "array([2, 2, 2])"
      ]
     },
     "metadata": {},
     "output_type": "display_data"
    },
    {
     "data": {
      "text/plain": [
       "array([4, 6])"
      ]
     },
     "metadata": {},
     "output_type": "display_data"
    },
    {
     "data": {
      "text/plain": [
       "2"
      ]
     },
     "metadata": {},
     "output_type": "display_data"
    },
    {
     "data": {
      "text/plain": [
       "False"
      ]
     },
     "metadata": {},
     "output_type": "display_data"
    },
    {
     "data": {
      "text/plain": [
       "False"
      ]
     },
     "metadata": {},
     "output_type": "display_data"
    },
    {
     "data": {
      "text/plain": [
       "True"
      ]
     },
     "metadata": {},
     "output_type": "display_data"
    },
    {
     "data": {
      "text/plain": [
       "array([0., 0., 0., 0., 0.])"
      ]
     },
     "metadata": {},
     "output_type": "display_data"
    },
    {
     "data": {
      "text/plain": [
       "array([5., 5., 5., 5., 5., 5., 5., 5., 5., 5.])"
      ]
     },
     "metadata": {},
     "output_type": "display_data"
    },
    {
     "data": {
      "text/plain": [
       "array([[[0., 0., 0., 0.],\n",
       "        [0., 0., 0., 0.],\n",
       "        [0., 0., 0., 0.]],\n",
       "\n",
       "       [[0., 0., 0., 0.],\n",
       "        [0., 0., 0., 0.],\n",
       "        [0., 0., 0., 0.]]])"
      ]
     },
     "metadata": {},
     "output_type": "display_data"
    },
    {
     "data": {
      "text/plain": [
       "array([[[[0., 0., 0., 0.],\n",
       "         [0., 0., 0., 0.],\n",
       "         [0., 0., 0., 0.]],\n",
       "\n",
       "        [[0., 0., 0., 0.],\n",
       "         [0., 0., 0., 0.],\n",
       "         [0., 0., 0., 0.]]],\n",
       "\n",
       "\n",
       "       [[[0., 0., 0., 0.],\n",
       "         [0., 0., 0., 0.],\n",
       "         [0., 0., 0., 0.]],\n",
       "\n",
       "        [[0., 0., 0., 0.],\n",
       "         [0., 0., 0., 0.],\n",
       "         [0., 0., 0., 0.]]]])"
      ]
     },
     "metadata": {},
     "output_type": "display_data"
    },
    {
     "data": {
      "text/plain": [
       "array([[[[[0., 0., 0., 0.],\n",
       "          [0., 0., 0., 0.],\n",
       "          [0., 0., 0., 0.]],\n",
       "\n",
       "         [[0., 0., 0., 0.],\n",
       "          [0., 0., 0., 0.],\n",
       "          [0., 0., 0., 0.]]],\n",
       "\n",
       "\n",
       "        [[[0., 0., 0., 0.],\n",
       "          [0., 0., 0., 0.],\n",
       "          [0., 0., 0., 0.]],\n",
       "\n",
       "         [[0., 0., 0., 0.],\n",
       "          [0., 0., 0., 0.],\n",
       "          [0., 0., 0., 0.]]]],\n",
       "\n",
       "\n",
       "\n",
       "       [[[[0., 0., 0., 0.],\n",
       "          [0., 0., 0., 0.],\n",
       "          [0., 0., 0., 0.]],\n",
       "\n",
       "         [[0., 0., 0., 0.],\n",
       "          [0., 0., 0., 0.],\n",
       "          [0., 0., 0., 0.]]],\n",
       "\n",
       "\n",
       "        [[[0., 0., 0., 0.],\n",
       "          [0., 0., 0., 0.],\n",
       "          [0., 0., 0., 0.]],\n",
       "\n",
       "         [[0., 0., 0., 0.],\n",
       "          [0., 0., 0., 0.],\n",
       "          [0., 0., 0., 0.]]]]])"
      ]
     },
     "metadata": {},
     "output_type": "display_data"
    }
   ],
   "source": [
    "display(\n",
    "    np.abs([-2,-2,-----+-2]),\n",
    "    np.absolute([-2,-2,-----+-2]),\n",
    "    np.add([2,3],[2,3]),\n",
    "    np.alen([[1,2,3],[3,2]]),  # 2\n",
    "    np.all([1,-2,0]), #Test whether all array elements along a given axis evaluate to True.\n",
    "    np.any([0,0,0]),\n",
    "    np.alltrue([1,1,-1]),\n",
    "    np.zeros([5]),\n",
    "    np.zeros(10)+5,\n",
    "    np.zeros([2,3,4]),\n",
    "    np.zeros([2,2,3,4]),\n",
    "    np.zeros([2,2,2,3,4]),\n",
    ")\n",
    "    \n"
   ]
  },
  {
   "cell_type": "code",
   "execution_count": 72,
   "id": "10d79cce",
   "metadata": {
    "collapsed": true
   },
   "outputs": [
    {
     "data": {
      "text/plain": [
       "array([1., 1., 1., 1., 1.])"
      ]
     },
     "metadata": {},
     "output_type": "display_data"
    },
    {
     "data": {
      "text/plain": [
       "array([0. , 0.5, 1. , 1.5, 2. ])"
      ]
     },
     "metadata": {},
     "output_type": "display_data"
    },
    {
     "data": {
      "text/plain": [
       "array([[[[0.37454012, 0.95071431, 0.73199394, ..., 0.30978786,\n",
       "          0.29004553, 0.87141403],\n",
       "         [0.67270299, 0.7966814 , 0.2504679 , ..., 0.76514885,\n",
       "          0.48529063, 0.14938164],\n",
       "         [0.64825695, 0.17238636, 0.87239456, ..., 0.97771281,\n",
       "          0.10792455, 0.93194414]],\n",
       "\n",
       "        [[0.91357801, 0.52536048, 0.72491027, ..., 0.30732518,\n",
       "          0.93858886, 0.31694529],\n",
       "         [0.65430632, 0.08003257, 0.24232981, ..., 0.05123954,\n",
       "          0.68296159, 0.25107902],\n",
       "         [0.49967024, 0.74674677, 0.56266678, ..., 0.72569185,\n",
       "          0.6920307 , 0.82153986]]],\n",
       "\n",
       "\n",
       "       [[[0.64569067, 0.40241849, 0.47190911, ..., 0.31366091,\n",
       "          0.45409354, 0.42875074],\n",
       "         [0.77250197, 0.48114436, 0.78895834, ..., 0.37786599,\n",
       "          0.2313198 , 0.63575633],\n",
       "         [0.68552802, 0.46757096, 0.0557069 , ..., 0.86710175,\n",
       "          0.25205935, 0.10096381]],\n",
       "\n",
       "        [[0.86463637, 0.02628985, 0.91099702, ..., 0.01945586,\n",
       "          0.40100484, 0.25739798],\n",
       "         [0.63814457, 0.45929245, 0.96449852, ..., 0.12537089,\n",
       "          0.67446688, 0.20757873],\n",
       "         [0.50901605, 0.30618798, 0.93169006, ..., 0.72672862,\n",
       "          0.23347617, 0.60664089]]]])"
      ]
     },
     "metadata": {},
     "output_type": "display_data"
    },
    {
     "data": {
      "text/plain": [
       "array([[0.91659237, 0.95021361],\n",
       "       [0.00441013, 0.31707503],\n",
       "       [0.83737803, 0.53644521],\n",
       "       [0.80750873, 0.85332328],\n",
       "       [0.44262622, 0.35898294]])"
      ]
     },
     "metadata": {},
     "output_type": "display_data"
    },
    {
     "data": {
      "text/plain": [
       "array([[[ 4, 15],\n",
       "        [20, 14],\n",
       "        [18, 12],\n",
       "        [10, 15]],\n",
       "\n",
       "       [[17, 14],\n",
       "        [ 5,  7],\n",
       "        [ 3, 20],\n",
       "        [15, 20]]])"
      ]
     },
     "metadata": {},
     "output_type": "display_data"
    },
    {
     "data": {
      "text/plain": [
       "None"
      ]
     },
     "metadata": {},
     "output_type": "display_data"
    },
    {
     "data": {
      "text/plain": [
       "array([0.37454012, 0.95071431, 0.73199394, 0.59865848])"
      ]
     },
     "metadata": {},
     "output_type": "display_data"
    }
   ],
   "source": [
    "display(\n",
    "    np.ones(5),\n",
    "    np.linspace(0,2,5,210000000),  # 21 elements in range of [0,21]\n",
    "    np.random.rand(2,2,3,3000),\n",
    "    np.random.rand(5,2),\n",
    "    np.random.randint(0,22,(2,4,2)),\n",
    "    np.random.seed(42), #Hitchhiker's Guide to the Galaxy\n",
    "    np.random.rand(4)\n",
    ")"
   ]
  },
  {
   "cell_type": "code",
   "execution_count": 82,
   "id": "d96d69c9",
   "metadata": {
    "collapsed": true
   },
   "outputs": [
    {
     "data": {
      "text/plain": [
       "array([[ 0,  1,  2,  3,  4],\n",
       "       [ 5,  6,  7,  8,  9],\n",
       "       [10, 11, 12, 13, 14],\n",
       "       [15, 16, 17, 18, 19],\n",
       "       [20, 21, 22, 23, 24]])"
      ]
     },
     "metadata": {},
     "output_type": "display_data"
    },
    {
     "data": {
      "text/plain": [
       "array([[[  0,   1,   2,   3,   4],\n",
       "        [  5,   6,   7,   8,   9],\n",
       "        [ 10,  11,  12,  13,  14],\n",
       "        [ 15,  16,  17,  18,  19],\n",
       "        [ 20,  21,  22,  23,  24]],\n",
       "\n",
       "       [[ 25,  26,  27,  28,  29],\n",
       "        [ 30,  31,  32,  33,  34],\n",
       "        [ 35,  36,  37,  38,  39],\n",
       "        [ 40,  41,  42,  43,  44],\n",
       "        [ 45,  46,  47,  48,  49]],\n",
       "\n",
       "       [[ 50,  51,  52,  53,  54],\n",
       "        [ 55,  56,  57,  58,  59],\n",
       "        [ 60,  61,  62,  63,  64],\n",
       "        [ 65,  66,  67,  68,  69],\n",
       "        [ 70,  71,  72,  73,  74]],\n",
       "\n",
       "       [[ 75,  76,  77,  78,  79],\n",
       "        [ 80,  81,  82,  83,  84],\n",
       "        [ 85,  86,  87,  88,  89],\n",
       "        [ 90,  91,  92,  93,  94],\n",
       "        [ 95,  96,  97,  98,  99]],\n",
       "\n",
       "       [[100, 101, 102, 103, 104],\n",
       "        [105, 106, 107, 108, 109],\n",
       "        [110, 111, 112, 113, 114],\n",
       "        [115, 116, 117, 118, 119],\n",
       "        [120, 121, 122, 123, 124]]])"
      ]
     },
     "metadata": {},
     "output_type": "display_data"
    }
   ],
   "source": [
    "display(\n",
    "    np.arange(0,25).reshape(5,5),\n",
    "    np.arange(0,125).reshape(5,5,5),\n",
    ")"
   ]
  },
  {
   "cell_type": "markdown",
   "id": "49e19b74",
   "metadata": {},
   "source": [
    "#### TASK: Create a numpy array called myarray which consists of 101 evenly linearly spaced points between 0 and 10.\n",
    "#### MAKE SURE TO READ THE FULL INSTRUCTIONS ABOVE CAREFULLY, AS THE EVALUATION SCRIPT IS VERY STRICT.\n",
    "#### Link to Solution: https://gist.github.com/Pierian-Data/ea9c4d2fc6c98ac74af18134cd924867\n",
    "    #### import ?\n",
    "    #### myarray = ?\n",
    "\n"
   ]
  },
  {
   "cell_type": "code",
   "execution_count": 84,
   "id": "c4326313",
   "metadata": {
    "collapsed": true
   },
   "outputs": [
    {
     "data": {
      "text/plain": [
       "array([ 0. ,  0.1,  0.2,  0.3,  0.4,  0.5,  0.6,  0.7,  0.8,  0.9,  1. ,\n",
       "        1.1,  1.2,  1.3,  1.4,  1.5,  1.6,  1.7,  1.8,  1.9,  2. ,  2.1,\n",
       "        2.2,  2.3,  2.4,  2.5,  2.6,  2.7,  2.8,  2.9,  3. ,  3.1,  3.2,\n",
       "        3.3,  3.4,  3.5,  3.6,  3.7,  3.8,  3.9,  4. ,  4.1,  4.2,  4.3,\n",
       "        4.4,  4.5,  4.6,  4.7,  4.8,  4.9,  5. ,  5.1,  5.2,  5.3,  5.4,\n",
       "        5.5,  5.6,  5.7,  5.8,  5.9,  6. ,  6.1,  6.2,  6.3,  6.4,  6.5,\n",
       "        6.6,  6.7,  6.8,  6.9,  7. ,  7.1,  7.2,  7.3,  7.4,  7.5,  7.6,\n",
       "        7.7,  7.8,  7.9,  8. ,  8.1,  8.2,  8.3,  8.4,  8.5,  8.6,  8.7,\n",
       "        8.8,  8.9,  9. ,  9.1,  9.2,  9.3,  9.4,  9.5,  9.6,  9.7,  9.8,\n",
       "        9.9, 10. ])"
      ]
     },
     "metadata": {},
     "output_type": "display_data"
    }
   ],
   "source": [
    "import numpy as np\n",
    "myarray = np.linspace(0,10,101)\n",
    "display(\n",
    "    myarray\n",
    ")"
   ]
  },
  {
   "cell_type": "markdown",
   "id": "ff163e0c",
   "metadata": {},
   "source": [
    "### Numpy indexing and selection"
   ]
  },
  {
   "cell_type": "code",
   "execution_count": 99,
   "id": "298b0e1a",
   "metadata": {
    "collapsed": true
   },
   "outputs": [
    {
     "data": {
      "text/plain": [
       "array([   0,    1,    2,    3,    4,    5,    6,    7,    8,    9, 1000])"
      ]
     },
     "metadata": {},
     "output_type": "display_data"
    },
    {
     "data": {
      "text/plain": [
       "array([0, 1, 2, 3, 4])"
      ]
     },
     "metadata": {},
     "output_type": "display_data"
    },
    {
     "data": {
      "text/plain": [
       "array([0, 1, 2, 3, 4, 5])"
      ]
     },
     "metadata": {},
     "output_type": "display_data"
    },
    {
     "data": {
      "text/plain": [
       "array([], dtype=int64)"
      ]
     },
     "metadata": {},
     "output_type": "display_data"
    },
    {
     "data": {
      "text/plain": [
       "array([   0,    1,    2,    3,    4,    5,    6,    7,    8,    9, 1000])"
      ]
     },
     "metadata": {},
     "output_type": "display_data"
    },
    {
     "data": {
      "text/plain": [
       "array([   0,    1,    2,    3,    4,    5,    6,    7,    8,    9, 1000])"
      ]
     },
     "metadata": {},
     "output_type": "display_data"
    },
    {
     "data": {
      "text/plain": [
       "array([  0,   1,   2,   3,   4,   5,   6,   7,   8,   9, 100])"
      ]
     },
     "metadata": {},
     "output_type": "display_data"
    },
    {
     "data": {
      "text/plain": [
       "array([False, False, False, False, False,  True,  True,  True,  True,\n",
       "        True,  True])"
      ]
     },
     "metadata": {},
     "output_type": "display_data"
    },
    {
     "data": {
      "text/plain": [
       "array([   5,    6,    7,    8,    9, 1000])"
      ]
     },
     "metadata": {},
     "output_type": "display_data"
    }
   ],
   "source": [
    "arr = np.arange(0,11)\n",
    "arr_ = arr[:]\n",
    "arr_[-1] = 1000\n",
    "arr_copy = arr.copy()[:]\n",
    "arr_copy[-1] = 100\n",
    "display(\n",
    "    arr,\n",
    "    arr[0:5],\n",
    "    arr[0:-5],\n",
    "    arr[-5:0],\n",
    "    arr[:],\n",
    "    arr_[:],  # changes the original array\n",
    "    arr_copy[:],  # does not change the original array\n",
    "    arr>4,\n",
    "    arr[arr>4],\n",
    ")"
   ]
  },
  {
   "cell_type": "markdown",
   "id": "03307869",
   "metadata": {},
   "source": [
    "### Numpy operations"
   ]
  },
  {
   "cell_type": "code",
   "execution_count": 113,
   "id": "7c66f099",
   "metadata": {
    "collapsed": true
   },
   "outputs": [
    {
     "name": "stderr",
     "output_type": "stream",
     "text": [
      "/var/folders/vh/30ml2jmd6t76y5lwy1jflql5f0c2kc/T/ipykernel_60081/4081486176.py:5: RuntimeWarning: divide by zero encountered in true_divide\n",
      "  1/arr,\n",
      "/var/folders/vh/30ml2jmd6t76y5lwy1jflql5f0c2kc/T/ipykernel_60081/4081486176.py:6: RuntimeWarning: divide by zero encountered in floor_divide\n",
      "  1//arr,\n"
     ]
    },
    {
     "data": {
      "text/plain": [
       "array([ 5,  6,  7,  8,  9, 10, 11, 12, 13, 14])"
      ]
     },
     "metadata": {},
     "output_type": "display_data"
    },
    {
     "data": {
      "text/plain": [
       "array([-5, -4, -3, -2, -1,  0,  1,  2,  3,  4])"
      ]
     },
     "metadata": {},
     "output_type": "display_data"
    },
    {
     "data": {
      "text/plain": [
       "array([       inf, 1.        , 0.5       , 0.33333333, 0.25      ,\n",
       "       0.2       , 0.16666667, 0.14285714, 0.125     , 0.11111111])"
      ]
     },
     "metadata": {},
     "output_type": "display_data"
    },
    {
     "data": {
      "text/plain": [
       "array([0, 1, 0, 0, 0, 0, 0, 0, 0, 0])"
      ]
     },
     "metadata": {},
     "output_type": "display_data"
    },
    {
     "data": {
      "text/plain": [
       "array([ 0,  1,  4,  9, 16, 25, 36, 49, 64, 81])"
      ]
     },
     "metadata": {},
     "output_type": "display_data"
    },
    {
     "data": {
      "text/plain": [
       "array([        1,         1,         4,        27,       256,      3125,\n",
       "           46656,    823543,  16777216, 387420489])"
      ]
     },
     "metadata": {},
     "output_type": "display_data"
    }
   ],
   "source": [
    "arr = np.arange(0,10)\n",
    "display(\n",
    "    arr+5,\n",
    "    arr -------------5,\n",
    "    1/arr,\n",
    "    1//arr,\n",
    "    arr**2,\n",
    "    arr**arr,\n",
    ")"
   ]
  },
  {
   "cell_type": "markdown",
   "id": "022634ea",
   "metadata": {},
   "source": [
    "### Numpy exercises"
   ]
  },
  {
   "cell_type": "code",
   "execution_count": 120,
   "id": "18919f62",
   "metadata": {
    "collapsed": true
   },
   "outputs": [
    {
     "data": {
      "text/plain": [
       "array([ 0,  2,  4,  6,  8, 10, 12, 14, 16, 18, 20, 22, 24, 26, 28, 30, 32,\n",
       "       34, 36, 38, 40, 42, 44, 46, 48, 50])"
      ]
     },
     "metadata": {},
     "output_type": "display_data"
    },
    {
     "data": {
      "text/plain": [
       "array([  0.        ,   0.20240481,   0.40480962,   0.60721443,\n",
       "         0.80961924,   1.01202405,   1.21442886,   1.41683367,\n",
       "         1.61923848,   1.82164329,   2.0240481 ,   2.22645291,\n",
       "         2.42885772,   2.63126253,   2.83366733,   3.03607214,\n",
       "         3.23847695,   3.44088176,   3.64328657,   3.84569138,\n",
       "         4.04809619,   4.250501  ,   4.45290581,   4.65531062,\n",
       "         4.85771543,   5.06012024,   5.26252505,   5.46492986,\n",
       "         5.66733467,   5.86973948,   6.07214429,   6.2745491 ,\n",
       "         6.47695391,   6.67935872,   6.88176353,   7.08416834,\n",
       "         7.28657315,   7.48897796,   7.69138277,   7.89378758,\n",
       "         8.09619238,   8.29859719,   8.501002  ,   8.70340681,\n",
       "         8.90581162,   9.10821643,   9.31062124,   9.51302605,\n",
       "         9.71543086,   9.91783567,  10.12024048,  10.32264529,\n",
       "        10.5250501 ,  10.72745491,  10.92985972,  11.13226453,\n",
       "        11.33466934,  11.53707415,  11.73947896,  11.94188377,\n",
       "        12.14428858,  12.34669339,  12.5490982 ,  12.75150301,\n",
       "        12.95390782,  13.15631263,  13.35871743,  13.56112224,\n",
       "        13.76352705,  13.96593186,  14.16833667,  14.37074148,\n",
       "        14.57314629,  14.7755511 ,  14.97795591,  15.18036072,\n",
       "        15.38276553,  15.58517034,  15.78757515,  15.98997996,\n",
       "        16.19238477,  16.39478958,  16.59719439,  16.7995992 ,\n",
       "        17.00200401,  17.20440882,  17.40681363,  17.60921844,\n",
       "        17.81162325,  18.01402806,  18.21643287,  18.41883768,\n",
       "        18.62124248,  18.82364729,  19.0260521 ,  19.22845691,\n",
       "        19.43086172,  19.63326653,  19.83567134,  20.03807615,\n",
       "        20.24048096,  20.44288577,  20.64529058,  20.84769539,\n",
       "        21.0501002 ,  21.25250501,  21.45490982,  21.65731463,\n",
       "        21.85971944,  22.06212425,  22.26452906,  22.46693387,\n",
       "        22.66933868,  22.87174349,  23.0741483 ,  23.27655311,\n",
       "        23.47895792,  23.68136273,  23.88376754,  24.08617234,\n",
       "        24.28857715,  24.49098196,  24.69338677,  24.89579158,\n",
       "        25.09819639,  25.3006012 ,  25.50300601,  25.70541082,\n",
       "        25.90781563,  26.11022044,  26.31262525,  26.51503006,\n",
       "        26.71743487,  26.91983968,  27.12224449,  27.3246493 ,\n",
       "        27.52705411,  27.72945892,  27.93186373,  28.13426854,\n",
       "        28.33667335,  28.53907816,  28.74148297,  28.94388778,\n",
       "        29.14629259,  29.34869739,  29.5511022 ,  29.75350701,\n",
       "        29.95591182,  30.15831663,  30.36072144,  30.56312625,\n",
       "        30.76553106,  30.96793587,  31.17034068,  31.37274549,\n",
       "        31.5751503 ,  31.77755511,  31.97995992,  32.18236473,\n",
       "        32.38476954,  32.58717435,  32.78957916,  32.99198397,\n",
       "        33.19438878,  33.39679359,  33.5991984 ,  33.80160321,\n",
       "        34.00400802,  34.20641283,  34.40881764,  34.61122244,\n",
       "        34.81362725,  35.01603206,  35.21843687,  35.42084168,\n",
       "        35.62324649,  35.8256513 ,  36.02805611,  36.23046092,\n",
       "        36.43286573,  36.63527054,  36.83767535,  37.04008016,\n",
       "        37.24248497,  37.44488978,  37.64729459,  37.8496994 ,\n",
       "        38.05210421,  38.25450902,  38.45691383,  38.65931864,\n",
       "        38.86172345,  39.06412826,  39.26653307,  39.46893788,\n",
       "        39.67134269,  39.87374749,  40.0761523 ,  40.27855711,\n",
       "        40.48096192,  40.68336673,  40.88577154,  41.08817635,\n",
       "        41.29058116,  41.49298597,  41.69539078,  41.89779559,\n",
       "        42.1002004 ,  42.30260521,  42.50501002,  42.70741483,\n",
       "        42.90981964,  43.11222445,  43.31462926,  43.51703407,\n",
       "        43.71943888,  43.92184369,  44.1242485 ,  44.32665331,\n",
       "        44.52905812,  44.73146293,  44.93386774,  45.13627255,\n",
       "        45.33867735,  45.54108216,  45.74348697,  45.94589178,\n",
       "        46.14829659,  46.3507014 ,  46.55310621,  46.75551102,\n",
       "        46.95791583,  47.16032064,  47.36272545,  47.56513026,\n",
       "        47.76753507,  47.96993988,  48.17234469,  48.3747495 ,\n",
       "        48.57715431,  48.77955912,  48.98196393,  49.18436874,\n",
       "        49.38677355,  49.58917836,  49.79158317,  49.99398798,\n",
       "        50.19639279,  50.3987976 ,  50.6012024 ,  50.80360721,\n",
       "        51.00601202,  51.20841683,  51.41082164,  51.61322645,\n",
       "        51.81563126,  52.01803607,  52.22044088,  52.42284569,\n",
       "        52.6252505 ,  52.82765531,  53.03006012,  53.23246493,\n",
       "        53.43486974,  53.63727455,  53.83967936,  54.04208417,\n",
       "        54.24448898,  54.44689379,  54.6492986 ,  54.85170341,\n",
       "        55.05410822,  55.25651303,  55.45891784,  55.66132265,\n",
       "        55.86372745,  56.06613226,  56.26853707,  56.47094188,\n",
       "        56.67334669,  56.8757515 ,  57.07815631,  57.28056112,\n",
       "        57.48296593,  57.68537074,  57.88777555,  58.09018036,\n",
       "        58.29258517,  58.49498998,  58.69739479,  58.8997996 ,\n",
       "        59.10220441,  59.30460922,  59.50701403,  59.70941884,\n",
       "        59.91182365,  60.11422846,  60.31663327,  60.51903808,\n",
       "        60.72144289,  60.9238477 ,  61.12625251,  61.32865731,\n",
       "        61.53106212,  61.73346693,  61.93587174,  62.13827655,\n",
       "        62.34068136,  62.54308617,  62.74549098,  62.94789579,\n",
       "        63.1503006 ,  63.35270541,  63.55511022,  63.75751503,\n",
       "        63.95991984,  64.16232465,  64.36472946,  64.56713427,\n",
       "        64.76953908,  64.97194389,  65.1743487 ,  65.37675351,\n",
       "        65.57915832,  65.78156313,  65.98396794,  66.18637275,\n",
       "        66.38877756,  66.59118236,  66.79358717,  66.99599198,\n",
       "        67.19839679,  67.4008016 ,  67.60320641,  67.80561122,\n",
       "        68.00801603,  68.21042084,  68.41282565,  68.61523046,\n",
       "        68.81763527,  69.02004008,  69.22244489,  69.4248497 ,\n",
       "        69.62725451,  69.82965932,  70.03206413,  70.23446894,\n",
       "        70.43687375,  70.63927856,  70.84168337,  71.04408818,\n",
       "        71.24649299,  71.4488978 ,  71.65130261,  71.85370741,\n",
       "        72.05611222,  72.25851703,  72.46092184,  72.66332665,\n",
       "        72.86573146,  73.06813627,  73.27054108,  73.47294589,\n",
       "        73.6753507 ,  73.87775551,  74.08016032,  74.28256513,\n",
       "        74.48496994,  74.68737475,  74.88977956,  75.09218437,\n",
       "        75.29458918,  75.49699399,  75.6993988 ,  75.90180361,\n",
       "        76.10420842,  76.30661323,  76.50901804,  76.71142285,\n",
       "        76.91382766,  77.11623246,  77.31863727,  77.52104208,\n",
       "        77.72344689,  77.9258517 ,  78.12825651,  78.33066132,\n",
       "        78.53306613,  78.73547094,  78.93787575,  79.14028056,\n",
       "        79.34268537,  79.54509018,  79.74749499,  79.9498998 ,\n",
       "        80.15230461,  80.35470942,  80.55711423,  80.75951904,\n",
       "        80.96192385,  81.16432866,  81.36673347,  81.56913828,\n",
       "        81.77154309,  81.9739479 ,  82.17635271,  82.37875752,\n",
       "        82.58116232,  82.78356713,  82.98597194,  83.18837675,\n",
       "        83.39078156,  83.59318637,  83.79559118,  83.99799599,\n",
       "        84.2004008 ,  84.40280561,  84.60521042,  84.80761523,\n",
       "        85.01002004,  85.21242485,  85.41482966,  85.61723447,\n",
       "        85.81963928,  86.02204409,  86.2244489 ,  86.42685371,\n",
       "        86.62925852,  86.83166333,  87.03406814,  87.23647295,\n",
       "        87.43887776,  87.64128257,  87.84368737,  88.04609218,\n",
       "        88.24849699,  88.4509018 ,  88.65330661,  88.85571142,\n",
       "        89.05811623,  89.26052104,  89.46292585,  89.66533066,\n",
       "        89.86773547,  90.07014028,  90.27254509,  90.4749499 ,\n",
       "        90.67735471,  90.87975952,  91.08216433,  91.28456914,\n",
       "        91.48697395,  91.68937876,  91.89178357,  92.09418838,\n",
       "        92.29659319,  92.498998  ,  92.70140281,  92.90380762,\n",
       "        93.10621242,  93.30861723,  93.51102204,  93.71342685,\n",
       "        93.91583166,  94.11823647,  94.32064128,  94.52304609,\n",
       "        94.7254509 ,  94.92785571,  95.13026052,  95.33266533,\n",
       "        95.53507014,  95.73747495,  95.93987976,  96.14228457,\n",
       "        96.34468938,  96.54709419,  96.749499  ,  96.95190381,\n",
       "        97.15430862,  97.35671343,  97.55911824,  97.76152305,\n",
       "        97.96392786,  98.16633267,  98.36873747,  98.57114228,\n",
       "        98.77354709,  98.9759519 ,  99.17835671,  99.38076152,\n",
       "        99.58316633,  99.78557114,  99.98797595, 100.19038076,\n",
       "       100.39278557, 100.59519038, 100.79759519, 101.        ])"
      ]
     },
     "metadata": {},
     "output_type": "display_data"
    }
   ],
   "source": [
    "display(\n",
    "    np.arange(0,52,2), # even integers from 1 to 50\n",
    "    np.linspace(0,101,500),\n",
    ")"
   ]
  },
  {
   "cell_type": "markdown",
   "id": "ce86ee0a",
   "metadata": {},
   "source": [
    "### Embedding Python child processes in Numpy array"
   ]
  },
  {
   "cell_type": "code",
   "execution_count": 8,
   "id": "06643323",
   "metadata": {
    "collapsed": true
   },
   "outputs": [
    {
     "name": "stdout",
     "output_type": "stream",
     "text": [
      "Requirement already satisfied: numpy in /Users/sreedhar.k/.pyenv/versions/3.8.0/lib/python3.8/site-packages (1.23.4)\n"
     ]
    },
    {
     "name": "stderr",
     "output_type": "stream",
     "text": [
      "WARNING: You are using pip version 19.2.3, however version 22.3 is available.\n",
      "You should consider upgrading via the 'pip install --upgrade pip' command.\n"
     ]
    },
    {
     "name": "stdout",
     "output_type": "stream",
     "text": [
      "Requirement already satisfied: sklearn in /Users/sreedhar.k/.pyenv/versions/3.8.0/lib/python3.8/site-packages (0.0)\n",
      "Requirement already satisfied: scikit-learn in /Users/sreedhar.k/.pyenv/versions/3.8.0/lib/python3.8/site-packages (from sklearn) (1.1.2)\n",
      "Requirement already satisfied: numpy>=1.17.3 in /Users/sreedhar.k/.pyenv/versions/3.8.0/lib/python3.8/site-packages (from scikit-learn->sklearn) (1.23.4)\n",
      "Requirement already satisfied: threadpoolctl>=2.0.0 in /Users/sreedhar.k/.pyenv/versions/3.8.0/lib/python3.8/site-packages (from scikit-learn->sklearn) (3.1.0)\n",
      "Requirement already satisfied: joblib>=1.0.0 in /Users/sreedhar.k/.pyenv/versions/3.8.0/lib/python3.8/site-packages (from scikit-learn->sklearn) (1.2.0)\n",
      "Requirement already satisfied: scipy>=1.3.2 in /Users/sreedhar.k/.pyenv/versions/3.8.0/lib/python3.8/site-packages (from scikit-learn->sklearn) (1.9.3)\n"
     ]
    },
    {
     "name": "stderr",
     "output_type": "stream",
     "text": [
      "WARNING: You are using pip version 19.2.3, however version 22.3 is available.\n",
      "You should consider upgrading via the 'pip install --upgrade pip' command.\n"
     ]
    },
    {
     "name": "stdout",
     "output_type": "stream",
     "text": [
      "Dataset Length:  625\n",
      "Dataset Shape:  (625, 5)\n",
      "Dataset:     0  1  2  3  4\n",
      "0  B  1  1  1  1\n",
      "1  R  1  1  1  2\n",
      "2  R  1  1  1  3\n",
      "3  R  1  1  1  4\n",
      "4  R  1  1  1  5\n",
      "Results Using Gini Index:\n",
      "Predicted values:\n",
      "['R' 'L' 'R' 'R' 'R' 'L' 'R' 'L' 'L' 'L' 'R' 'L' 'L' 'L' 'R' 'L' 'R' 'L'\n",
      " 'L' 'R' 'L' 'R' 'L' 'L' 'R' 'L' 'L' 'L' 'R' 'L' 'L' 'L' 'R' 'L' 'L' 'L'\n",
      " 'L' 'R' 'L' 'L' 'R' 'L' 'R' 'L' 'R' 'R' 'L' 'L' 'R' 'L' 'R' 'R' 'L' 'R'\n",
      " 'R' 'L' 'R' 'R' 'L' 'L' 'R' 'R' 'L' 'L' 'L' 'L' 'L' 'R' 'R' 'L' 'L' 'R'\n",
      " 'R' 'L' 'R' 'L' 'R' 'R' 'R' 'L' 'R' 'L' 'L' 'L' 'L' 'R' 'R' 'L' 'R' 'L'\n",
      " 'R' 'R' 'L' 'L' 'L' 'R' 'R' 'L' 'L' 'L' 'R' 'L' 'R' 'R' 'R' 'R' 'R' 'R'\n",
      " 'R' 'L' 'R' 'L' 'R' 'R' 'L' 'R' 'R' 'R' 'R' 'R' 'L' 'R' 'L' 'L' 'L' 'L'\n",
      " 'L' 'L' 'L' 'R' 'R' 'R' 'R' 'L' 'R' 'R' 'R' 'L' 'L' 'R' 'L' 'R' 'L' 'R'\n",
      " 'L' 'L' 'R' 'L' 'L' 'R' 'L' 'R' 'L' 'R' 'R' 'R' 'L' 'R' 'R' 'R' 'R' 'R'\n",
      " 'L' 'L' 'R' 'R' 'R' 'R' 'L' 'R' 'R' 'R' 'L' 'R' 'L' 'L' 'L' 'L' 'R' 'R'\n",
      " 'L' 'R' 'R' 'L' 'L' 'R' 'R' 'R']\n",
      "Confusion Matrix:  [[ 0  6  7]\n",
      " [ 0 67 18]\n",
      " [ 0 19 71]]\n",
      "Accuracy :  73.40425531914893\n",
      "Report :                precision    recall  f1-score   support\n",
      "\n",
      "           B       0.00      0.00      0.00        13\n",
      "           L       0.73      0.79      0.76        85\n",
      "           R       0.74      0.79      0.76        90\n",
      "\n",
      "    accuracy                           0.73       188\n",
      "   macro avg       0.49      0.53      0.51       188\n",
      "weighted avg       0.68      0.73      0.71       188\n",
      "\n",
      "Results Using Entropy:\n",
      "Predicted values:\n",
      "['R' 'L' 'R' 'L' 'R' 'L' 'R' 'L' 'R' 'R' 'R' 'R' 'L' 'L' 'R' 'L' 'R' 'L'\n",
      " 'L' 'R' 'L' 'R' 'L' 'L' 'R' 'L' 'R' 'L' 'R' 'L' 'R' 'L' 'R' 'L' 'L' 'L'\n",
      " 'L' 'L' 'R' 'L' 'R' 'L' 'R' 'L' 'R' 'R' 'L' 'L' 'R' 'L' 'L' 'R' 'L' 'L'\n",
      " 'R' 'L' 'R' 'R' 'L' 'R' 'R' 'R' 'L' 'L' 'R' 'L' 'L' 'R' 'L' 'L' 'L' 'R'\n",
      " 'R' 'L' 'R' 'L' 'R' 'R' 'R' 'L' 'R' 'L' 'L' 'L' 'L' 'R' 'R' 'L' 'R' 'L'\n",
      " 'R' 'R' 'L' 'L' 'L' 'R' 'R' 'L' 'L' 'L' 'R' 'L' 'L' 'R' 'R' 'R' 'R' 'R'\n",
      " 'R' 'L' 'R' 'L' 'R' 'R' 'L' 'R' 'R' 'L' 'R' 'R' 'L' 'R' 'R' 'R' 'L' 'L'\n",
      " 'L' 'L' 'L' 'R' 'R' 'R' 'R' 'L' 'R' 'R' 'R' 'L' 'L' 'R' 'L' 'R' 'L' 'R'\n",
      " 'L' 'R' 'R' 'L' 'L' 'R' 'L' 'R' 'R' 'R' 'R' 'R' 'L' 'R' 'R' 'R' 'R' 'R'\n",
      " 'R' 'L' 'R' 'L' 'R' 'R' 'L' 'R' 'L' 'R' 'L' 'R' 'L' 'L' 'L' 'L' 'L' 'R'\n",
      " 'R' 'R' 'L' 'L' 'L' 'R' 'R' 'R']\n",
      "Confusion Matrix:  [[ 0  6  7]\n",
      " [ 0 63 22]\n",
      " [ 0 20 70]]\n",
      "Accuracy :  70.74468085106383\n",
      "Report :                precision    recall  f1-score   support\n",
      "\n",
      "           B       0.00      0.00      0.00        13\n",
      "           L       0.71      0.74      0.72        85\n",
      "           R       0.71      0.78      0.74        90\n",
      "\n",
      "    accuracy                           0.71       188\n",
      "   macro avg       0.47      0.51      0.49       188\n",
      "weighted avg       0.66      0.71      0.68       188\n",
      "\n"
     ]
    },
    {
     "name": "stderr",
     "output_type": "stream",
     "text": [
      "/Users/sreedhar.k/.pyenv/versions/3.8.0/lib/python3.8/site-packages/sklearn/metrics/_classification.py:1334: UndefinedMetricWarning: Precision and F-score are ill-defined and being set to 0.0 in labels with no predicted samples. Use `zero_division` parameter to control this behavior.\n",
      "  _warn_prf(average, modifier, msg_start, len(result))\n",
      "/Users/sreedhar.k/.pyenv/versions/3.8.0/lib/python3.8/site-packages/sklearn/metrics/_classification.py:1334: UndefinedMetricWarning: Precision and F-score are ill-defined and being set to 0.0 in labels with no predicted samples. Use `zero_division` parameter to control this behavior.\n",
      "  _warn_prf(average, modifier, msg_start, len(result))\n",
      "/Users/sreedhar.k/.pyenv/versions/3.8.0/lib/python3.8/site-packages/sklearn/metrics/_classification.py:1334: UndefinedMetricWarning: Precision and F-score are ill-defined and being set to 0.0 in labels with no predicted samples. Use `zero_division` parameter to control this behavior.\n",
      "  _warn_prf(average, modifier, msg_start, len(result))\n",
      "/Users/sreedhar.k/.pyenv/versions/3.8.0/lib/python3.8/site-packages/sklearn/metrics/_classification.py:1334: UndefinedMetricWarning: Precision and F-score are ill-defined and being set to 0.0 in labels with no predicted samples. Use `zero_division` parameter to control this behavior.\n",
      "  _warn_prf(average, modifier, msg_start, len(result))\n",
      "/Users/sreedhar.k/.pyenv/versions/3.8.0/lib/python3.8/site-packages/sklearn/metrics/_classification.py:1334: UndefinedMetricWarning: Precision and F-score are ill-defined and being set to 0.0 in labels with no predicted samples. Use `zero_division` parameter to control this behavior.\n",
      "  _warn_prf(average, modifier, msg_start, len(result))\n",
      "/Users/sreedhar.k/.pyenv/versions/3.8.0/lib/python3.8/site-packages/sklearn/metrics/_classification.py:1334: UndefinedMetricWarning: Precision and F-score are ill-defined and being set to 0.0 in labels with no predicted samples. Use `zero_division` parameter to control this behavior.\n",
      "  _warn_prf(average, modifier, msg_start, len(result))\n"
     ]
    },
    {
     "name": "stdout",
     "output_type": "stream",
     "text": [
      "Requirement already satisfied: numpy in /Users/sreedhar.k/.pyenv/versions/3.8.0/lib/python3.8/site-packages (1.23.4)\n"
     ]
    },
    {
     "name": "stderr",
     "output_type": "stream",
     "text": [
      "WARNING: You are using pip version 19.2.3, however version 22.3 is available.\n",
      "You should consider upgrading via the 'pip install --upgrade pip' command.\n"
     ]
    },
    {
     "name": "stdout",
     "output_type": "stream",
     "text": [
      "Requirement already satisfied: sklearn in /Users/sreedhar.k/.pyenv/versions/3.8.0/lib/python3.8/site-packages (0.0)\n",
      "Requirement already satisfied: scikit-learn in /Users/sreedhar.k/.pyenv/versions/3.8.0/lib/python3.8/site-packages (from sklearn) (1.1.2)\n",
      "Requirement already satisfied: joblib>=1.0.0 in /Users/sreedhar.k/.pyenv/versions/3.8.0/lib/python3.8/site-packages (from scikit-learn->sklearn) (1.2.0)\n",
      "Requirement already satisfied: scipy>=1.3.2 in /Users/sreedhar.k/.pyenv/versions/3.8.0/lib/python3.8/site-packages (from scikit-learn->sklearn) (1.9.3)\n",
      "Requirement already satisfied: numpy>=1.17.3 in /Users/sreedhar.k/.pyenv/versions/3.8.0/lib/python3.8/site-packages (from scikit-learn->sklearn) (1.23.4)\n",
      "Requirement already satisfied: threadpoolctl>=2.0.0 in /Users/sreedhar.k/.pyenv/versions/3.8.0/lib/python3.8/site-packages (from scikit-learn->sklearn) (3.1.0)\n"
     ]
    },
    {
     "name": "stderr",
     "output_type": "stream",
     "text": [
      "WARNING: You are using pip version 19.2.3, however version 22.3 is available.\n",
      "You should consider upgrading via the 'pip install --upgrade pip' command.\n"
     ]
    },
    {
     "name": "stdout",
     "output_type": "stream",
     "text": [
      "Dataset Length:  625\n",
      "Dataset Shape:  (625, 5)\n",
      "Dataset:     0  1  2  3  4\n",
      "0  B  1  1  1  1\n",
      "1  R  1  1  1  2\n",
      "2  R  1  1  1  3\n",
      "3  R  1  1  1  4\n",
      "4  R  1  1  1  5\n",
      "Results Using Gini Index:\n",
      "Predicted values:\n",
      "['R' 'L' 'R' 'R' 'R' 'L' 'R' 'L' 'L' 'L' 'R' 'L' 'L' 'L' 'R' 'L' 'R' 'L'\n",
      " 'L' 'R' 'L' 'R' 'L' 'L' 'R' 'L' 'L' 'L' 'R' 'L' 'L' 'L' 'R' 'L' 'L' 'L'\n",
      " 'L' 'R' 'L' 'L' 'R' 'L' 'R' 'L' 'R' 'R' 'L' 'L' 'R' 'L' 'R' 'R' 'L' 'R'\n",
      " 'R' 'L' 'R' 'R' 'L' 'L' 'R' 'R' 'L' 'L' 'L' 'L' 'L' 'R' 'R' 'L' 'L' 'R'\n",
      " 'R' 'L' 'R' 'L' 'R' 'R' 'R' 'L' 'R' 'L' 'L' 'L' 'L' 'R' 'R' 'L' 'R' 'L'\n",
      " 'R' 'R' 'L' 'L' 'L' 'R' 'R' 'L' 'L' 'L' 'R' 'L' 'R' 'R' 'R' 'R' 'R' 'R'\n",
      " 'R' 'L' 'R' 'L' 'R' 'R' 'L' 'R' 'R' 'R' 'R' 'R' 'L' 'R' 'L' 'L' 'L' 'L'\n",
      " 'L' 'L' 'L' 'R' 'R' 'R' 'R' 'L' 'R' 'R' 'R' 'L' 'L' 'R' 'L' 'R' 'L' 'R'\n",
      " 'L' 'L' 'R' 'L' 'L' 'R' 'L' 'R' 'L' 'R' 'R' 'R' 'L' 'R' 'R' 'R' 'R' 'R'\n",
      " 'L' 'L' 'R' 'R' 'R' 'R' 'L' 'R' 'R' 'R' 'L' 'R' 'L' 'L' 'L' 'L' 'R' 'R'\n",
      " 'L' 'R' 'R' 'L' 'L' 'R' 'R' 'R']\n",
      "Confusion Matrix:  [[ 0  6  7]\n",
      " [ 0 67 18]\n",
      " [ 0 19 71]]\n",
      "Accuracy :  73.40425531914893\n",
      "Report :                precision    recall  f1-score   support\n",
      "\n",
      "           B       0.00      0.00      0.00        13\n",
      "           L       0.73      0.79      0.76        85\n",
      "           R       0.74      0.79      0.76        90\n",
      "\n",
      "    accuracy                           0.73       188\n",
      "   macro avg       0.49      0.53      0.51       188\n",
      "weighted avg       0.68      0.73      0.71       188\n",
      "\n",
      "Results Using Entropy:\n",
      "Predicted values:\n",
      "['R' 'L' 'R' 'L' 'R' 'L' 'R' 'L' 'R' 'R' 'R' 'R' 'L' 'L' 'R' 'L' 'R' 'L'\n",
      " 'L' 'R' 'L' 'R' 'L' 'L' 'R' 'L' 'R' 'L' 'R' 'L' 'R' 'L' 'R' 'L' 'L' 'L'\n",
      " 'L' 'L' 'R' 'L' 'R' 'L' 'R' 'L' 'R' 'R' 'L' 'L' 'R' 'L' 'L' 'R' 'L' 'L'\n",
      " 'R' 'L' 'R' 'R' 'L' 'R' 'R' 'R' 'L' 'L' 'R' 'L' 'L' 'R' 'L' 'L' 'L' 'R'\n",
      " 'R' 'L' 'R' 'L' 'R' 'R' 'R' 'L' 'R' 'L' 'L' 'L' 'L' 'R' 'R' 'L' 'R' 'L'\n",
      " 'R' 'R' 'L' 'L' 'L' 'R' 'R' 'L' 'L' 'L' 'R' 'L' 'L' 'R' 'R' 'R' 'R' 'R'\n",
      " 'R' 'L' 'R' 'L' 'R' 'R' 'L' 'R' 'R' 'L' 'R' 'R' 'L' 'R' 'R' 'R' 'L' 'L'\n",
      " 'L' 'L' 'L' 'R' 'R' 'R' 'R' 'L' 'R' 'R' 'R' 'L' 'L' 'R' 'L' 'R' 'L' 'R'\n",
      " 'L' 'R' 'R' 'L' 'L' 'R' 'L' 'R' 'R' 'R' 'R' 'R' 'L' 'R' 'R' 'R' 'R' 'R'\n",
      " 'R' 'L' 'R' 'L' 'R' 'R' 'L' 'R' 'L' 'R' 'L' 'R' 'L' 'L' 'L' 'L' 'L' 'R'\n",
      " 'R' 'R' 'L' 'L' 'L' 'R' 'R' 'R']\n",
      "Confusion Matrix:  [[ 0  6  7]\n",
      " [ 0 63 22]\n",
      " [ 0 20 70]]\n",
      "Accuracy :  70.74468085106383\n",
      "Report :                precision    recall  f1-score   support\n",
      "\n",
      "           B       0.00      0.00      0.00        13\n",
      "           L       0.71      0.74      0.72        85\n",
      "           R       0.71      0.78      0.74        90\n",
      "\n",
      "    accuracy                           0.71       188\n",
      "   macro avg       0.47      0.51      0.49       188\n",
      "weighted avg       0.66      0.71      0.68       188\n",
      "\n"
     ]
    },
    {
     "name": "stderr",
     "output_type": "stream",
     "text": [
      "/Users/sreedhar.k/.pyenv/versions/3.8.0/lib/python3.8/site-packages/sklearn/metrics/_classification.py:1334: UndefinedMetricWarning: Precision and F-score are ill-defined and being set to 0.0 in labels with no predicted samples. Use `zero_division` parameter to control this behavior.\n",
      "  _warn_prf(average, modifier, msg_start, len(result))\n",
      "/Users/sreedhar.k/.pyenv/versions/3.8.0/lib/python3.8/site-packages/sklearn/metrics/_classification.py:1334: UndefinedMetricWarning: Precision and F-score are ill-defined and being set to 0.0 in labels with no predicted samples. Use `zero_division` parameter to control this behavior.\n",
      "  _warn_prf(average, modifier, msg_start, len(result))\n",
      "/Users/sreedhar.k/.pyenv/versions/3.8.0/lib/python3.8/site-packages/sklearn/metrics/_classification.py:1334: UndefinedMetricWarning: Precision and F-score are ill-defined and being set to 0.0 in labels with no predicted samples. Use `zero_division` parameter to control this behavior.\n",
      "  _warn_prf(average, modifier, msg_start, len(result))\n",
      "/Users/sreedhar.k/.pyenv/versions/3.8.0/lib/python3.8/site-packages/sklearn/metrics/_classification.py:1334: UndefinedMetricWarning: Precision and F-score are ill-defined and being set to 0.0 in labels with no predicted samples. Use `zero_division` parameter to control this behavior.\n",
      "  _warn_prf(average, modifier, msg_start, len(result))\n",
      "/Users/sreedhar.k/.pyenv/versions/3.8.0/lib/python3.8/site-packages/sklearn/metrics/_classification.py:1334: UndefinedMetricWarning: Precision and F-score are ill-defined and being set to 0.0 in labels with no predicted samples. Use `zero_division` parameter to control this behavior.\n",
      "  _warn_prf(average, modifier, msg_start, len(result))\n",
      "/Users/sreedhar.k/.pyenv/versions/3.8.0/lib/python3.8/site-packages/sklearn/metrics/_classification.py:1334: UndefinedMetricWarning: Precision and F-score are ill-defined and being set to 0.0 in labels with no predicted samples. Use `zero_division` parameter to control this behavior.\n",
      "  _warn_prf(average, modifier, msg_start, len(result))\n"
     ]
    },
    {
     "data": {
      "text/plain": [
       "array(['1', '2', '3', None, None], dtype=object)"
      ]
     },
     "execution_count": 8,
     "metadata": {},
     "output_type": "execute_result"
    }
   ],
   "source": [
    "import numpy as np\n",
    "import subprocess,sys\n",
    "arr_ = np.array([\n",
    "    \"1\",\n",
    "    \"2\",\n",
    "    \"3\",\n",
    "    (subprocess.run([\"python3\",\"-c\",'''\n",
    "# Run this program on your local python\n",
    "# interpreter, provided you have installed\n",
    "# the required libraries.\n",
    "import subprocess,sys\n",
    "def install(package):\n",
    "    subprocess.check_call([sys.executable, \"-m\", \"pip\", \"install\", package])   \n",
    "install(\"numpy\")\n",
    "install(\"sklearn\")\n",
    "\n",
    "# Importing the required packages\n",
    "import numpy as np\n",
    "import pandas as pd\n",
    "from sklearn.metrics import confusion_matrix\n",
    "from sklearn.model_selection import train_test_split\n",
    "from sklearn.tree import DecisionTreeClassifier\n",
    "from sklearn.metrics import accuracy_score\n",
    "from sklearn.metrics import classification_report\n",
    "\n",
    "# Function importing Dataset\n",
    "def importdata():\n",
    "\tbalance_data = pd.read_csv(\n",
    "'https://archive.ics.uci.edu/ml/machine-learning-'+\n",
    "'databases/balance-scale/balance-scale.data',\n",
    "\tsep= ',', header = None)\n",
    "\t\n",
    "\t# Printing the dataswet shape\n",
    "\tprint (\"Dataset Length: \", len(balance_data))\n",
    "\tprint (\"Dataset Shape: \", balance_data.shape)\n",
    "\t\n",
    "\t# Printing the dataset obseravtions\n",
    "\tprint (\"Dataset: \",balance_data.head())\n",
    "\treturn balance_data\n",
    "\n",
    "# Function to split the dataset\n",
    "def splitdataset(balance_data):\n",
    "\n",
    "\t# Separating the target variable\n",
    "\tX = balance_data.values[:, 1:5]\n",
    "\tY = balance_data.values[:, 0]\n",
    "\n",
    "\t# Splitting the dataset into train and test\n",
    "\tX_train, X_test, y_train, y_test = train_test_split(\n",
    "\tX, Y, test_size = 0.3, random_state = 100)\n",
    "\t\n",
    "\treturn X, Y, X_train, X_test, y_train, y_test\n",
    "\t\n",
    "# Function to perform training with giniIndex.\n",
    "def train_using_gini(X_train, X_test, y_train):\n",
    "\n",
    "\t# Creating the classifier object\n",
    "\tclf_gini = DecisionTreeClassifier(criterion = \"gini\",\n",
    "\t\t\trandom_state = 100,max_depth=3, min_samples_leaf=5)\n",
    "\n",
    "\t# Performing training\n",
    "\tclf_gini.fit(X_train, y_train)\n",
    "\treturn clf_gini\n",
    "\t\n",
    "# Function to perform training with entropy.\n",
    "def tarin_using_entropy(X_train, X_test, y_train):\n",
    "\n",
    "\t# Decision tree with entropy\n",
    "\tclf_entropy = DecisionTreeClassifier(\n",
    "\t\t\tcriterion = \"entropy\", random_state = 100,\n",
    "\t\t\tmax_depth = 3, min_samples_leaf = 5)\n",
    "\n",
    "\t# Performing training\n",
    "\tclf_entropy.fit(X_train, y_train)\n",
    "\treturn clf_entropy\n",
    "\n",
    "\n",
    "# Function to make predictions\n",
    "def prediction(X_test, clf_object):\n",
    "\n",
    "\t# Predicton on test with giniIndex\n",
    "\ty_pred = clf_object.predict(X_test)\n",
    "\tprint(\"Predicted values:\")\n",
    "\tprint(y_pred)\n",
    "\treturn y_pred\n",
    "\t\n",
    "# Function to calculate accuracy\n",
    "def cal_accuracy(y_test, y_pred):\n",
    "\t\n",
    "\tprint(\"Confusion Matrix: \",\n",
    "\t\tconfusion_matrix(y_test, y_pred))\n",
    "\t\n",
    "\tprint (\"Accuracy : \",\n",
    "\taccuracy_score(y_test,y_pred)*100)\n",
    "\t\n",
    "\tprint(\"Report : \",\n",
    "\tclassification_report(y_test, y_pred))\n",
    "\n",
    "# Driver code\n",
    "def main():\n",
    "\t\n",
    "\t# Building Phase\n",
    "\tdata = importdata()\n",
    "\tX, Y, X_train, X_test, y_train, y_test = splitdataset(data)\n",
    "\tclf_gini = train_using_gini(X_train, X_test, y_train)\n",
    "\tclf_entropy = tarin_using_entropy(X_train, X_test, y_train)\n",
    "\t\n",
    "\t# Operational Phase\n",
    "\tprint(\"Results Using Gini Index:\")\n",
    "\t\n",
    "\t# Prediction using gini\n",
    "\ty_pred_gini = prediction(X_test, clf_gini)\n",
    "\tcal_accuracy(y_test, y_pred_gini)\n",
    "\t\n",
    "\tprint(\"Results Using Entropy:\")\n",
    "\t# Prediction using entropy\n",
    "\ty_pred_entropy = prediction(X_test, clf_entropy)\n",
    "\tcal_accuracy(y_test, y_pred_entropy)\n",
    "\t\n",
    "\t\n",
    "# Calling main function\n",
    "if __name__==\"__main__\":\n",
    "\tmain()\n",
    "\n",
    "''']).stdout),\n",
    "     (subprocess.run([\"python3\",\"-c\",'''\n",
    "# Run this program on your local python\n",
    "# interpreter, provided you have installed\n",
    "# the required libraries.\n",
    "import subprocess,sys\n",
    "def install(package):\n",
    "    subprocess.check_call([sys.executable, \"-m\", \"pip\", \"install\", package])   \n",
    "install(\"numpy\")\n",
    "install(\"sklearn\")\n",
    "\n",
    "# Importing the required packages\n",
    "import numpy as np\n",
    "import pandas as pd\n",
    "from sklearn.metrics import confusion_matrix\n",
    "from sklearn.model_selection import train_test_split\n",
    "from sklearn.tree import DecisionTreeClassifier\n",
    "from sklearn.metrics import accuracy_score\n",
    "from sklearn.metrics import classification_report\n",
    "\n",
    "# Function importing Dataset\n",
    "def importdata():\n",
    "\tbalance_data = pd.read_csv(\n",
    "'https://archive.ics.uci.edu/ml/machine-learning-'+\n",
    "'databases/balance-scale/balance-scale.data',\n",
    "\tsep= ',', header = None)\n",
    "\t\n",
    "\t# Printing the dataswet shape\n",
    "\tprint (\"Dataset Length: \", len(balance_data))\n",
    "\tprint (\"Dataset Shape: \", balance_data.shape)\n",
    "\t\n",
    "\t# Printing the dataset obseravtions\n",
    "\tprint (\"Dataset: \",balance_data.head())\n",
    "\treturn balance_data\n",
    "\n",
    "# Function to split the dataset\n",
    "def splitdataset(balance_data):\n",
    "\n",
    "\t# Separating the target variable\n",
    "\tX = balance_data.values[:, 1:5]\n",
    "\tY = balance_data.values[:, 0]\n",
    "\n",
    "\t# Splitting the dataset into train and test\n",
    "\tX_train, X_test, y_train, y_test = train_test_split(\n",
    "\tX, Y, test_size = 0.3, random_state = 100)\n",
    "\t\n",
    "\treturn X, Y, X_train, X_test, y_train, y_test\n",
    "\t\n",
    "# Function to perform training with giniIndex.\n",
    "def train_using_gini(X_train, X_test, y_train):\n",
    "\n",
    "\t# Creating the classifier object\n",
    "\tclf_gini = DecisionTreeClassifier(criterion = \"gini\",\n",
    "\t\t\trandom_state = 100,max_depth=3, min_samples_leaf=5)\n",
    "\n",
    "\t# Performing training\n",
    "\tclf_gini.fit(X_train, y_train)\n",
    "\treturn clf_gini\n",
    "\t\n",
    "# Function to perform training with entropy.\n",
    "def tarin_using_entropy(X_train, X_test, y_train):\n",
    "\n",
    "\t# Decision tree with entropy\n",
    "\tclf_entropy = DecisionTreeClassifier(\n",
    "\t\t\tcriterion = \"entropy\", random_state = 100,\n",
    "\t\t\tmax_depth = 3, min_samples_leaf = 5)\n",
    "\n",
    "\t# Performing training\n",
    "\tclf_entropy.fit(X_train, y_train)\n",
    "\treturn clf_entropy\n",
    "\n",
    "\n",
    "# Function to make predictions\n",
    "def prediction(X_test, clf_object):\n",
    "\n",
    "\t# Predicton on test with giniIndex\n",
    "\ty_pred = clf_object.predict(X_test)\n",
    "\tprint(\"Predicted values:\")\n",
    "\tprint(y_pred)\n",
    "\treturn y_pred\n",
    "\t\n",
    "# Function to calculate accuracy\n",
    "def cal_accuracy(y_test, y_pred):\n",
    "\t\n",
    "\tprint(\"Confusion Matrix: \",\n",
    "\t\tconfusion_matrix(y_test, y_pred))\n",
    "\t\n",
    "\tprint (\"Accuracy : \",\n",
    "\taccuracy_score(y_test,y_pred)*100)\n",
    "\t\n",
    "\tprint(\"Report : \",\n",
    "\tclassification_report(y_test, y_pred))\n",
    "\n",
    "# Driver code\n",
    "def main():\n",
    "\t\n",
    "\t# Building Phase\n",
    "\tdata = importdata()\n",
    "\tX, Y, X_train, X_test, y_train, y_test = splitdataset(data)\n",
    "\tclf_gini = train_using_gini(X_train, X_test, y_train)\n",
    "\tclf_entropy = tarin_using_entropy(X_train, X_test, y_train)\n",
    "\t\n",
    "\t# Operational Phase\n",
    "\tprint(\"Results Using Gini Index:\")\n",
    "\t\n",
    "\t# Prediction using gini\n",
    "\ty_pred_gini = prediction(X_test, clf_gini)\n",
    "\tcal_accuracy(y_test, y_pred_gini)\n",
    "\t\n",
    "\tprint(\"Results Using Entropy:\")\n",
    "\t# Prediction using entropy\n",
    "\ty_pred_entropy = prediction(X_test, clf_entropy)\n",
    "\tcal_accuracy(y_test, y_pred_entropy)\n",
    "\t\n",
    "\t\n",
    "# Calling main function\n",
    "if __name__==\"__main__\":\n",
    "\tmain()\n",
    "\n",
    "''']).stdout)\n",
    "])\n",
    "arr_\n"
   ]
  },
  {
   "cell_type": "code",
   "execution_count": null,
   "id": "514d99b1",
   "metadata": {},
   "outputs": [],
   "source": []
  }
 ],
 "metadata": {
  "kernelspec": {
   "display_name": "Python 3 (ipykernel)",
   "language": "python",
   "name": "python3"
  },
  "language_info": {
   "codemirror_mode": {
    "name": "ipython",
    "version": 3
   },
   "file_extension": ".py",
   "mimetype": "text/x-python",
   "name": "python",
   "nbconvert_exporter": "python",
   "pygments_lexer": "ipython3",
   "version": "3.8.0"
  },
  "varInspector": {
   "cols": {
    "lenName": 16,
    "lenType": 16,
    "lenVar": 40
   },
   "kernels_config": {
    "python": {
     "delete_cmd_postfix": "",
     "delete_cmd_prefix": "del ",
     "library": "var_list.py",
     "varRefreshCmd": "print(var_dic_list())"
    },
    "r": {
     "delete_cmd_postfix": ") ",
     "delete_cmd_prefix": "rm(",
     "library": "var_list.r",
     "varRefreshCmd": "cat(var_dic_list()) "
    }
   },
   "position": {
    "height": "144.852px",
    "left": "418px",
    "right": "20px",
    "top": "120px",
    "width": "350px"
   },
   "types_to_exclude": [
    "module",
    "function",
    "builtin_function_or_method",
    "instance",
    "_Feature"
   ],
   "window_display": false
  },
  "vscode": {
   "interpreter": {
    "hash": "d1d53844fa7b061d9a2f658c3fe3dde5e1913fb87b7139a02c3ab412f15c06de"
   }
  }
 },
 "nbformat": 4,
 "nbformat_minor": 5
}

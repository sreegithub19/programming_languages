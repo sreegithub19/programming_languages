{
 "cells": [
  {
   "cell_type": "markdown",
   "id": "62cadd36",
   "metadata": {},
   "source": [
    "## Contents:\n",
    "\n",
    "- [Turtle](#turtle)<br>\n",
    "- [Figures](#figures)<br>"
   ]
  },
  {
   "cell_type": "markdown",
   "id": "c4a3fd19",
   "metadata": {},
   "source": [
    "<a id=\"turtle\"></a>\n",
    "## Turtle"
   ]
  },
  {
   "cell_type": "code",
   "execution_count": null,
   "id": "179fc4f2",
   "metadata": {},
   "outputs": [],
   "source": [
    "\n",
    "import turtle             \n",
    "polygon = turtle.Turtle()\n",
    "turtle.screensize(2000,2000)\n",
    "my_num_sides = 2\n",
    "my_side_length = 70\n",
    "my_angle = -222.0 / my_num_sides\n",
    "for i in range(my_num_sides):\n",
    "    polygon.forward(my_side_length)           \n",
    "    polygon.right(my_angle) \n",
    "turtle.done()\n",
    "turtle.Screen().exitonclick() "
   ]
  },
  {
   "cell_type": "code",
   "execution_count": 5,
   "id": "3102dd21",
   "metadata": {},
   "outputs": [
    {
     "data": {
      "text/plain": [
       "'3.9.15 (main, Oct 11 2022, 22:25:13) \\n[Clang 12.0.0 (clang-1200.0.32.29)]'"
      ]
     },
     "execution_count": 5,
     "metadata": {},
     "output_type": "execute_result"
    }
   ],
   "source": [
    "import sys\n",
    "sys.version"
   ]
  },
  {
   "cell_type": "code",
   "execution_count": 2,
   "id": "079c32bb",
   "metadata": {
    "collapsed": true
   },
   "outputs": [
    {
     "name": "stderr",
     "output_type": "stream",
     "text": [
      "DEPRECATION: Configuring installation scheme with distutils config files is deprecated and will no longer work in the near future. If you are using a Homebrew or Linuxbrew Python, please see discussion at https://github.com/Homebrew/homebrew-core/issues/76621\n"
     ]
    },
    {
     "name": "stdout",
     "output_type": "stream",
     "text": [
      "Collecting sketchpy\n",
      "  Using cached sketchpy-0.1.7-py3-none-any.whl (39 kB)\n",
      "Collecting turtle==0.0.1\n",
      "  Using cached turtle-0.0.1.tar.gz (10 kB)\n",
      "  Preparing metadata (setup.py): started\n",
      "  Preparing metadata (setup.py): finished with status 'done'\n",
      "Requirement already satisfied: wheel in /usr/local/lib/python3.9/site-packages (from sketchpy) (0.37.1)\n",
      "Requirement already satisfied: Pillow in /usr/local/lib/python3.9/site-packages (from sketchpy) (9.0.1)\n",
      "Collecting svg.path\n",
      "  Using cached svg.path-6.3-py2.py3-none-any.whl (16 kB)\n",
      "Requirement already satisfied: opencv-python in /usr/local/lib/python3.9/site-packages (from sketchpy) (4.5.5.64)\n",
      "Collecting geocoder\n",
      "  Using cached geocoder-1.38.1-py2.py3-none-any.whl (98 kB)\n",
      "Collecting geopy\n",
      "  Using cached geopy-2.3.0-py3-none-any.whl (119 kB)\n",
      "Requirement already satisfied: requests in /usr/local/lib/python3.9/site-packages (from sketchpy) (2.27.1)\n",
      "Collecting svgpathtools\n",
      "  Using cached svgpathtools-1.6.1-py2.py3-none-any.whl (67 kB)\n",
      "Collecting tqdm\n",
      "  Using cached tqdm-4.66.1-py3-none-any.whl (78 kB)\n",
      "Collecting PyYAML>=3.08\n",
      "  Downloading PyYAML-6.0.1-cp39-cp39-macosx_10_9_x86_64.whl (197 kB)\n",
      "     ━━━━━━━━━━━━━━━━━━━━━━━━━━━━━━━━━━━━━━━ 197.8/197.8 kB 1.9 MB/s eta 0:00:00\n",
      "Requirement already satisfied: six in /usr/local/lib/python3.9/site-packages (from geocoder->sketchpy) (1.16.0)\n",
      "Collecting ratelim\n",
      "  Using cached ratelim-0.1.6-py2.py3-none-any.whl (4.0 kB)\n",
      "Collecting future\n",
      "  Using cached future-0.18.3.tar.gz (840 kB)\n",
      "  Preparing metadata (setup.py): started\n",
      "  Preparing metadata (setup.py): finished with status 'done'\n",
      "Requirement already satisfied: click in /usr/local/lib/python3.9/site-packages (from geocoder->sketchpy) (8.0.4)\n",
      "Collecting geographiclib<3,>=1.52\n",
      "  Using cached geographiclib-2.0-py3-none-any.whl (40 kB)\n",
      "Requirement already satisfied: numpy>=1.17.3 in /usr/local/lib/python3.9/site-packages (from opencv-python->sketchpy) (1.23.4)\n",
      "Requirement already satisfied: charset-normalizer~=2.0.0 in /usr/local/lib/python3.9/site-packages (from requests->sketchpy) (2.0.12)\n",
      "Requirement already satisfied: idna<4,>=2.5 in /usr/local/lib/python3.9/site-packages (from requests->sketchpy) (3.3)\n",
      "Requirement already satisfied: urllib3<1.27,>=1.21.1 in /usr/local/lib/python3.9/site-packages (from requests->sketchpy) (1.26.9)\n",
      "Requirement already satisfied: certifi>=2017.4.17 in /usr/local/lib/python3.9/site-packages (from requests->sketchpy) (2021.10.8)\n",
      "Requirement already satisfied: scipy in /usr/local/lib/python3.9/site-packages (from svgpathtools->sketchpy) (1.9.3)\n",
      "Collecting svgwrite\n",
      "  Using cached svgwrite-1.4.3-py3-none-any.whl (67 kB)\n",
      "Requirement already satisfied: decorator in /usr/local/lib/python3.9/site-packages (from ratelim->geocoder->sketchpy) (5.1.1)\n",
      "Building wheels for collected packages: turtle, future\n",
      "  Building wheel for turtle (setup.py): started\n",
      "  Building wheel for turtle (setup.py): finished with status 'done'\n",
      "  Created wheel for turtle: filename=turtle-0.0.1-py3-none-any.whl size=22172 sha256=16e86448407a32c308f3fc408ae51f8390fa8a854cc4f9a3acf7f4deee0b980e\n",
      "  Stored in directory: /Users/sreedhar.k/Library/Caches/pip/wheels/ea/06/b6/b313fe8866e8093e4bb1127f9e8baac5e44430584d370ecaad\n",
      "  Building wheel for future (setup.py): started\n",
      "  Building wheel for future (setup.py): finished with status 'done'\n",
      "  Created wheel for future: filename=future-0.18.3-py3-none-any.whl size=492025 sha256=99d7719db04fc10e0b1fb16b50aecccf7cbeb64400d1d25dca4dc227a6083ffb\n",
      "  Stored in directory: /Users/sreedhar.k/Library/Caches/pip/wheels/0c/ff/54/efb16da5b1058114a457b3c7167904915d2e5764b637ae8d3d\n",
      "Successfully built turtle future\n",
      "Installing collected packages: tqdm, svgwrite, svg.path, ratelim, PyYAML, geographiclib, future, turtle, svgpathtools, geopy, geocoder, sketchpy\n"
     ]
    },
    {
     "name": "stderr",
     "output_type": "stream",
     "text": [
      "  DEPRECATION: Configuring installation scheme with distutils config files is deprecated and will no longer work in the near future. If you are using a Homebrew or Linuxbrew Python, please see discussion at https://github.com/Homebrew/homebrew-core/issues/76621\n",
      "  DEPRECATION: Configuring installation scheme with distutils config files is deprecated and will no longer work in the near future. If you are using a Homebrew or Linuxbrew Python, please see discussion at https://github.com/Homebrew/homebrew-core/issues/76621\n",
      "  DEPRECATION: Configuring installation scheme with distutils config files is deprecated and will no longer work in the near future. If you are using a Homebrew or Linuxbrew Python, please see discussion at https://github.com/Homebrew/homebrew-core/issues/76621\n",
      "  DEPRECATION: Configuring installation scheme with distutils config files is deprecated and will no longer work in the near future. If you are using a Homebrew or Linuxbrew Python, please see discussion at https://github.com/Homebrew/homebrew-core/issues/76621\n",
      "  DEPRECATION: Configuring installation scheme with distutils config files is deprecated and will no longer work in the near future. If you are using a Homebrew or Linuxbrew Python, please see discussion at https://github.com/Homebrew/homebrew-core/issues/76621\n",
      "  DEPRECATION: Configuring installation scheme with distutils config files is deprecated and will no longer work in the near future. If you are using a Homebrew or Linuxbrew Python, please see discussion at https://github.com/Homebrew/homebrew-core/issues/76621\n",
      "  DEPRECATION: Configuring installation scheme with distutils config files is deprecated and will no longer work in the near future. If you are using a Homebrew or Linuxbrew Python, please see discussion at https://github.com/Homebrew/homebrew-core/issues/76621\n",
      "  DEPRECATION: Configuring installation scheme with distutils config files is deprecated and will no longer work in the near future. If you are using a Homebrew or Linuxbrew Python, please see discussion at https://github.com/Homebrew/homebrew-core/issues/76621\n",
      "  DEPRECATION: Configuring installation scheme with distutils config files is deprecated and will no longer work in the near future. If you are using a Homebrew or Linuxbrew Python, please see discussion at https://github.com/Homebrew/homebrew-core/issues/76621\n",
      "  DEPRECATION: Configuring installation scheme with distutils config files is deprecated and will no longer work in the near future. If you are using a Homebrew or Linuxbrew Python, please see discussion at https://github.com/Homebrew/homebrew-core/issues/76621\n",
      "  DEPRECATION: Configuring installation scheme with distutils config files is deprecated and will no longer work in the near future. If you are using a Homebrew or Linuxbrew Python, please see discussion at https://github.com/Homebrew/homebrew-core/issues/76621\n",
      "  DEPRECATION: Configuring installation scheme with distutils config files is deprecated and will no longer work in the near future. If you are using a Homebrew or Linuxbrew Python, please see discussion at https://github.com/Homebrew/homebrew-core/issues/76621\n",
      "DEPRECATION: Configuring installation scheme with distutils config files is deprecated and will no longer work in the near future. If you are using a Homebrew or Linuxbrew Python, please see discussion at https://github.com/Homebrew/homebrew-core/issues/76621\n"
     ]
    },
    {
     "name": "stdout",
     "output_type": "stream",
     "text": [
      "Successfully installed PyYAML-6.0.1 future-0.18.3 geocoder-1.38.1 geographiclib-2.0 geopy-2.3.0 ratelim-0.1.6 sketchpy-0.1.7 svg.path-6.3 svgpathtools-1.6.1 svgwrite-1.4.3 tqdm-4.66.1 turtle-0.0.1\n"
     ]
    },
    {
     "name": "stderr",
     "output_type": "stream",
     "text": [
      "\n",
      "[notice] A new release of pip available: 22.3 -> 23.2.1\n",
      "[notice] To update, run: python3.9 -m pip install --upgrade pip\n"
     ]
    },
    {
     "name": "stdout",
     "output_type": "stream",
     "text": [
      "Package             Version    \n",
      "------------------- -----------\n",
      "boto3               1.17.112   \n",
      "botocore            1.20.112   \n",
      "certifi             2021.10.8  \n",
      "chardet             4.0.0      \n",
      "click               7.1.2      \n",
      "contextlib2         0.6.0.post1\n",
      "Flask               1.1.4      \n",
      "futures             3.4.0      \n",
      "idna                2.10       \n",
      "importlib-resources 3.3.1      \n",
      "itsdangerous        1.1.0      \n",
      "Jinja2              2.11.3     \n",
      "jmespath            0.10.0     \n",
      "MarkupSafe          1.1.1      \n",
      "numpy               1.16.6     \n",
      "pathlib2            2.3.7.post1\n",
      "pip                 19.2.3     \n",
      "python-dateutil     2.8.2      \n",
      "requests            2.27.1     \n",
      "s3transfer          0.4.2      \n",
      "scandir             1.10.0     \n",
      "setuptools          41.2.0     \n",
      "singledispatch      3.7.0      \n",
      "six                 1.16.0     \n",
      "tqdm                4.64.1     \n",
      "typing              3.10.0.0   \n",
      "urllib3             1.26.16    \n",
      "Werkzeug            1.0.1      \n",
      "zipp                1.2.0      \n"
     ]
    },
    {
     "name": "stderr",
     "output_type": "stream",
     "text": [
      "DEPRECATION: Python 2.7 will reach the end of its life on January 1st, 2020. Please upgrade your Python as Python 2.7 won't be maintained after that date. A future version of pip will drop support for Python 2.7. More details about Python 2 support in pip, can be found at https://pip.pypa.io/en/latest/development/release-process/#python-2-support\n",
      "WARNING: You are using pip version 19.2.3, however version 20.3.4 is available.\n",
      "You should consider upgrading via the 'pip install --upgrade pip' command.\n"
     ]
    },
    {
     "data": {
      "text/plain": [
       "CompletedProcess(args=['pip', 'list'], returncode=0)"
      ]
     },
     "execution_count": 2,
     "metadata": {},
     "output_type": "execute_result"
    }
   ],
   "source": [
    "import subprocess\n",
    "import sys\n",
    "import sklearn\n",
    "\n",
    "def install(package):\n",
    "    subprocess.check_call([sys.executable, \"-m\", \"pip\", \"install\", package]) \n",
    "    #subprocess.run([\"pip\",\"install\",\"scikit-learn==0.22.2\",\"--user\"])\n",
    "    #print(sklearn.__version__) # 1.1.3\n",
    "    \n",
    "install(\"sketchpy\")  \n",
    "'''\n",
    "Notes: \n",
    "- Use \"imbalanced-learn\" instead of imblearn\n",
    "- Use \"tensor-sensor\" instead of tsensor\n",
    "'''\n",
    "\n",
    "subprocess.run([\"pip\",\"list\"])"
   ]
  },
  {
   "cell_type": "code",
   "execution_count": 4,
   "id": "3d734645",
   "metadata": {},
   "outputs": [
    {
     "data": {
      "text/plain": [
       "'\\nfrom sketchpy import library\\nmyObject = library.rdj()\\nmyObject.draw()\\n'"
      ]
     },
     "execution_count": 4,
     "metadata": {},
     "output_type": "execute_result"
    }
   ],
   "source": [
    "#KeyError: 'USERPROFILE'\n",
    "'''\n",
    "from sketchpy import library\n",
    "myObject = library.rdj()\n",
    "myObject.draw()\n",
    "'''"
   ]
  },
  {
   "cell_type": "markdown",
   "id": "18968638",
   "metadata": {},
   "source": [
    "<a id=\"figures\"></a>\n",
    "## Figures"
   ]
  },
  {
   "cell_type": "code",
   "execution_count": null,
   "id": "0466a9dc",
   "metadata": {},
   "outputs": [],
   "source": [
    "# Draw Robert Downey Junior\n",
    "class rdj:\n",
    "    def __init__(self, x_offset = 300, y_offset = 300):\n",
    "        '''x_offset and y_offset represents the position of the image being drawn, by default it is 300 you can change it any coordinates you want'''\n",
    "        import turtle as tu\n",
    "        self.mouth = [(374, 382),(368, 382),(359, 382),(347, 379),(339, 381),(334, 384),(323, 380),(315, 380),(293, 385),(321, 387),(339, 387),(345, 386),(357, 385),(374, 383),(-1, -1),(389, 389),(393, 387),(395, 381),(395, 373),(377, 362),(366, 357),(358, 360),(351, 357),(345, 354),(344, 357),(337, 355),(333, 357),(327, 355),(323, 357),(303, 362),(293, 365),(286, 367),(282, 374),(277, 376),(279, 394),(286, 390),(293, 380),(297, 378),(302, 378),(304, 375),(307, 378),(310, 374),(313, 377),(315, 373),(319, 375),(322, 374),(325, 376),(329, 375),(336, 375),(342, 374),(350, 374),(353, 376),(357, 374),(369, 374),(372, 377),(374, 374),(377, 378),(383, 379),(389, 389),]\n",
    "        self.nose = [(342, 305),(342, 313),(344, 321),(344, 328),(343, 335),(338, 342),(331, 344),(322, 343),(313, 340),(310, 339),(307, 339),(303, 333),(301, 338),(305, 343),(313, 344),(323, 349),(332, 353),(343, 345),(346, 342),(354, 342),(359, 338),(360, 329),(355, 322),(348, 320),(348, 323),(354, 325),(356, 331),(353, 336),(348, 335),(350, 330),(348, 323),(343, 305),]\n",
    "        self.dress = [(56, 513),(222, 433),(247, 393),(249, 408),(254, 425),(265, 456),(265, 456),(273, 478),(280, 495),(283, 509),(294, 539),(302, 527),(314, 515),(328, 503),(347, 491),(350, 493),(340, 499),(349, 507),(359, 517),(380, 498),(397, 505),(412, 516),(425, 526),(432, 533),(435, 539),(399, 523),(399, 530),(395, 538),(353, 539),(347, 530),(320, 519),(300, 539),(293, 539),(-1, -1),(363, 507),(391, 478),(401, 458),(422, 408),(423, 398),(420, 407),(400, 440),(386, 460),(377, 471),(371, 475),(366, 480),(357, 482),(348, 478),(339, 470),(330, 462),(316, 453),(301, 444),(276, 420),(248, 391),(253, 399),(267, 419),(278, 430),(288, 441),(295, 445),(303, 453),(326, 475),(338, 484),(347, 492),(353, 498),(363, 508),(371, 500),(-1, -1),(427, 401),(437, 486),(441, 526),(443, 539),(624, 539),(625, 477),(528, 449),(477, 428),(447, 412),(428, 401),]\n",
    "        self.face = [(328, 461),(316, 457),(305, 453),(297, 446),(286, 436),(284, 434),(280, 431),(277, 431),(279, 428),(275, 428),(272, 423),(262, 411),(250, 395),(244, 387),(241, 382),(238, 377),(235, 372),(236, 367),(234, 363),(234, 358),(231, 354),(231, 349),(230, 346),(231, 343),(228, 339),(229, 336),(226, 330),(227, 324),(223, 320),(224, 317),(221, 311),(216, 310),(212, 306),(213, 302),(216, 308),(220, 306),(220, 297),(217, 294),(219, 284),(216, 279),(216, 272),(211, 266),(208, 272),(206, 266),(207, 256),(205, 249),(204, 243),(204, 237),(208, 233),(208, 229),(206, 229),(206, 222),(202, 215),(202, 210),(197, 204),(198, 197),(193, 193),(192, 173),(190, 170),(191, 166),(190, 162),(191, 159),(188, 154),(186, 148),(188, 142),(188, 135),(188, 127),(191, 122),(186, 121),(177, 112),(185, 115),(179, 105),(188, 114),(182, 98),(191, 109),(194, 104),(200, 101),(194, 99),(203, 94),(206, 85),(211, 82),(218, 80),(213, 78),(208, 79),(212, 76),(218, 76),(216, 69),(218, 64),(219, 70),(221, 75),(223, 68),(230, 64),(231, 58),(234, 56),(235, 52),(236, 47),(240, 42),(242, 35),(252, 32),(270, 28),(283, 28),(290, 28),(297, 29),(304, 33),(318, 29),(332, 28),(346, 27),(356, 27),(366, 29),(379, 36),(363, 24),(375, 26),(389, 36),(397, 40),(405, 45),(411, 54),(422, 61),(429, 70),(433, 83),(435, 91),(436, 79),(436, 99),(436, 106),(441, 99),(435, 113),(450, 108),(469, 111),(477, 108),(473, 114),(467, 126),(477, 120),(479, 124),(471, 132),(473, 136),(472, 145),(483, 148),(479, 151),(480, 161),(483, 168),(480, 173),(480, 178),(476, 184),(474, 190),(472, 196),(465, 197),(462, 204),(462, 211),(461, 217),(459, 224),(463, 231),(456, 229),(452, 237),(449, 245),(448, 254),(448, 262),(450, 257),(452, 251),(454, 244),(458, 239),(462, 243),(462, 251),(458, 246),(456, 251),(454, 255),(458, 257),(452, 266),(454, 273),(455, 282),(452, 288),(453, 296),(458, 286),(457, 295),(453, 303),(449, 304),(448, 297),(450, 290),(453, 280),(448, 273),(448, 280),(446, 288),(445, 300),(444, 308),(448, 315),(454, 311),(454, 317),(449, 319),(443, 316),(442, 327),(439, 339),(437, 350),(433, 362),(430, 370),(430, 378),(426, 385),(420, 393),(416, 399),(411, 404),(408, 409),(403, 414),(399, 419),(394, 427),(386, 435),(381, 441),(376, 444),(371, 448),(367, 451),(359, 456),(352, 458),(348, 461),(341, 461),(336, 463),(330, 459),(328, 462),(316, 457),]\n",
    "        self.iface = [(311, 400),(324, 402),(338, 402),(347, 402),(356, 399),(363, 397),(359, 402),(356, 408),(353, 414),(348, 419),(349, 426),(359, 426),(362, 430),(367, 433),(374, 434),(376, 436),(379, 432),(383, 433),(385, 427),(393, 419),(394, 416),(398, 413),(400, 408),(401, 394),(408, 402),(415, 394),(421, 385),(424, 380),(424, 373),(427, 367),(432, 353),(434, 345),(436, 339),(434, 330),(438, 322),(438, 312),(437, 310),(440, 309),(441, 293),(443, 288),(441, 284),(444, 275),(440, 265),(442, 233),(439, 227),(439, 221),(434, 211),(425, 203),(432, 203),(421, 192),(430, 196),(421, 187),(430, 187),(419, 178),(432, 180),(420, 172),(428, 174),(422, 165),(415, 159),(413, 147),(408, 140),(403, 140),(402, 138),(395, 139),(394, 136),(388, 138),(386, 136),(379, 138),(377, 133),(372, 134),(369, 131),(364, 134),(360, 133),(355, 135),(353, 131),(348, 132),(347, 127),(346, 131),(343, 127),(336, 131),(331, 128),(327, 130),(323, 126),(319, 129),(313, 125),(309, 131),(306, 126),(303, 131),(297, 126),(296, 131),(289, 127),(287, 130),(282, 126),(280, 132),(274, 128),(274, 135),(268, 131),(264, 135),(256, 134),(256, 139),(251, 138),(252, 142),(246, 142),(247, 146),(244, 149),(245, 154),(239, 154),(243, 160),(236, 163),(242, 164),(233, 169),(238, 170),(231, 177),(237, 176),(227, 184),(237, 180),(229, 190),(237, 189),(229, 198),(237, 195),(232, 202),(239, 205),(229, 212),(238, 210),(232, 215),(238, 215),(233, 220),(227, 227),(224, 237),(224, 246),(226, 253),(226, 259),(227, 267),(227, 277),(224, 291),(223, 304),(225, 311),(228, 319),(231, 330),(234, 340),(235, 349),(237, 361),(241, 372),(248, 385),(252, 391),(258, 397),(264, 402),(268, 396),(272, 398),(272, 406),(279, 414),(278, 419),(284, 426),(292, 431),(292, 435),(296, 438),(299, 438),(301, 442),(308, 439),(313, 435),(317, 435),(319, 430),(321, 428),(325, 426),(327, 426),(332, 424),(331, 416),(326, 416),(318, 408),(318, 404),(311, 400),(324, 402),]\n",
    "        self.ebrow = [(339, 243),(339, 248),(343, 254),(350, 256),(358, 251),(367, 248),(382, 247),(397, 249),(407, 252),(418, 258),(419, 253),(414, 245),(399, 235),(391, 235),(381, 237),(372, 238),(361, 243),(353, 245),(343, 255),(-1, -1),(321, 246),(320, 258),(314, 257),(305, 254),(263, 253),(245, 259),(243, 257),(246, 250),(253, 245),(260, 242),(269, 241),(276, 241),(282, 243),(291, 245),(305, 245),(311, 249),(319, 252),(322, 246),]\n",
    "        self.lines = [(345, 313),(344, 308),(343, 297),(343, 282),(-1, -1),(367, 340),(384, 357),(-1, -1),(295, 337),(280, 359),(-1, -1),(385, 278),(394, 278),(400, 273),(408, 264),(400, 261),(389, 257),(377, 258),(371, 260),(358, 269),(362, 272),(-1, -1),(395, 257),(371, 254),(353, 263),(-1, -1),(303, 274),(309, 273),(297, 263),(290, 262),(272, 262),(261, 270),(256, 271),(262, 271),(269, 277),(283, 281),(-1, -1),(255, 267),(271, 260),(282, 259),(291, 259),(300, 260),(311, 264),]\n",
    "        self.eyes = [(375, 260),(375, 266),(378, 271),(384, 273),(389, 270),(391, 267),(392, 264),(391, 260),(388, 258),(384, 257),(379, 257),(375, 261),(-1,-1),(291, 263),(292, 269),(289, 273),(286, 276),(281, 276),(276, 273),(274, 269),(274, 265),(276, 263),(281, 262),(287, 262),(291, 263),]\n",
    "        self.eball = [(281, 266),(279, 267),(277, 266),(277, 264),(279, 263),(281, 264),(281, 266),(-1, -1),(379, 259),(382, 260),(382, 263),(380, 264),(378, 263),(377, 261),(379, 259),]\n",
    "        self.turt = tu\n",
    "        self.pen = tu.Turtle()\n",
    "        self.pen.hideturtle()\n",
    "        self.pen.speed(0)\n",
    "        self.x_offset = x_offset\n",
    "        self.y_offset = y_offset\n",
    "    def go(self, x, y):\n",
    "        self.pen.penup()\n",
    "        self.pen.goto(x-self.x_offset,(y*-1)+self.y_offset)\n",
    "        self.pen.pendown()  \n",
    "    def paint(self,coord,co=(0,0,0)):\n",
    "        self.pen.color(co)\n",
    "        t_x,t_y = coord[0]\n",
    "        self.go(t_x,t_y)\n",
    "        self.pen.fillcolor(co)\n",
    "        self.pen.begin_fill()\n",
    "        t = 0\n",
    "        for i in coord[1:]:\n",
    "            #print(i)\n",
    "            x,y = i\n",
    "            if t:\n",
    "                self.go(x,y)\n",
    "                t = 0\n",
    "                self.pen.begin_fill()\n",
    "                continue\n",
    "            if x == -1 and y == -1:\n",
    "                t = 1\n",
    "                self.pen.end_fill()\n",
    "                continue\n",
    "            else:\n",
    "                self.pen.goto(x-self.x_offset,(y*-1)+self.y_offset) \n",
    "        self.pen.end_fill()\n",
    "    def draw_fn(self,coord,mode = 1,co = (0,0,0),thickness = 1):\n",
    "        co = (co[0]/255,co[1]/255,co[2]/255)\n",
    "        self.pen.color(co)\n",
    "        if mode:\n",
    "            self.pen.width(thickness)\n",
    "            t_x,t_y = coord[0]\n",
    "            self.go(t_x,t_y)\n",
    "            t = 0\n",
    "            for i in coord[1:]:\n",
    "                #print(i)\n",
    "                x,y = i\n",
    "                if t:\n",
    "                    self.go(x,y)\n",
    "                    t = 0\n",
    "                    continue\n",
    "                if x == -1 and y == -1:\n",
    "                    t = 1\n",
    "                    continue\n",
    "                else:\n",
    "                    self.pen.goto(x-self.x_offset,(y*-1)+self.y_offset)\n",
    "        else:\n",
    "            self.paint(coord=coord,co = co)\n",
    "    def draw(self,retain=True):\n",
    "        self.draw_fn(self.dress,mode = 0)\n",
    "        self.draw_fn(self.face,mode = 0)\n",
    "        self.draw_fn(self.iface,co = (255,255,255),mode = 0)\n",
    "        self.draw_fn(self.mouth,mode = 0)\n",
    "        self.draw_fn(self.nose,mode = 0)\n",
    "        self.draw_fn(self.ebrow,mode = 0)\n",
    "        self.draw_fn(self.lines,mode = 1,thickness=2)\n",
    "        self.draw_fn(self.eyes,mode = 0)\n",
    "        self.draw_fn(self.eball,mode = 0,co = (255,255,255))\n",
    "        if retain:\n",
    "            self.turt.done()\n",
    "obj=rdj()\n",
    "obj.draw()"
   ]
  },
  {
   "cell_type": "code",
   "execution_count": null,
   "id": "a5b7dcd7",
   "metadata": {},
   "outputs": [],
   "source": [
    "from flask import Flask\n",
    "\n",
    "app = Flask(__name__)\n",
    "\n",
    "@app.route('/')\n",
    "def index():\n",
    "    return '''\n",
    "<b>Web App with Python Flask!</b>\n",
    "    '''\n",
    "\n",
    "@app.route('/next')\n",
    "def index():\n",
    "    return '''\n",
    "<b>Web App with Python Flask next!</b>\n",
    "    '''\n",
    "\n",
    "app.run(host='0.0.0.0', port=5000)\n",
    "app.debug = true"
   ]
  },
  {
   "cell_type": "code",
   "execution_count": null,
   "id": "c5390376",
   "metadata": {},
   "outputs": [],
   "source": []
  }
 ],
 "metadata": {
  "kernelspec": {
   "display_name": "Python 3 (ipykernel)",
   "language": "python",
   "name": "python3"
  },
  "language_info": {
   "codemirror_mode": {
    "name": "ipython",
    "version": 3
   },
   "file_extension": ".py",
   "mimetype": "text/x-python",
   "name": "python",
   "nbconvert_exporter": "python",
   "pygments_lexer": "ipython3",
   "version": "3.9.15"
  },
  "varInspector": {
   "cols": {
    "lenName": 16,
    "lenType": 16,
    "lenVar": 40
   },
   "kernels_config": {
    "python": {
     "delete_cmd_postfix": "",
     "delete_cmd_prefix": "del ",
     "library": "var_list.py",
     "varRefreshCmd": "print(var_dic_list())"
    },
    "r": {
     "delete_cmd_postfix": ") ",
     "delete_cmd_prefix": "rm(",
     "library": "var_list.r",
     "varRefreshCmd": "cat(var_dic_list()) "
    }
   },
   "types_to_exclude": [
    "module",
    "function",
    "builtin_function_or_method",
    "instance",
    "_Feature"
   ],
   "window_display": false
  }
 },
 "nbformat": 4,
 "nbformat_minor": 5
}
